{
 "cells": [
  {
   "cell_type": "code",
   "execution_count": 1,
   "id": "32ffa669",
   "metadata": {},
   "outputs": [],
   "source": [
    "import numpy as np\n",
    "import matplotlib.pyplot as plt"
   ]
  },
  {
   "cell_type": "code",
   "execution_count": 2,
   "id": "a71d0326",
   "metadata": {},
   "outputs": [],
   "source": [
    "def sigmoid(z):\n",
    "    return 1/ (1 + np.exp(-z))"
   ]
  },
  {
   "cell_type": "code",
   "execution_count": 3,
   "id": "4d7b2894",
   "metadata": {},
   "outputs": [
    {
     "data": {
      "text/plain": [
       "0.5"
      ]
     },
     "execution_count": 3,
     "metadata": {},
     "output_type": "execute_result"
    }
   ],
   "source": [
    "sigmoid(0)"
   ]
  },
  {
   "cell_type": "code",
   "execution_count": 4,
   "id": "d1510223",
   "metadata": {},
   "outputs": [
    {
     "data": {
      "text/plain": [
       "1.0"
      ]
     },
     "execution_count": 4,
     "metadata": {},
     "output_type": "execute_result"
    }
   ],
   "source": [
    "sigmoid(1000)"
   ]
  },
  {
   "cell_type": "code",
   "execution_count": 8,
   "id": "8397f979",
   "metadata": {},
   "outputs": [
    {
     "data": {
      "text/plain": [
       "2.6503965530043108e-261"
      ]
     },
     "execution_count": 8,
     "metadata": {},
     "output_type": "execute_result"
    }
   ],
   "source": [
    "sigmoid(-600)"
   ]
  },
  {
   "cell_type": "code",
   "execution_count": 9,
   "id": "62c5abb1",
   "metadata": {},
   "outputs": [],
   "source": [
    "x = np.arange(-10, 10, 0.1)"
   ]
  },
  {
   "cell_type": "code",
   "execution_count": 12,
   "id": "cf3d5091",
   "metadata": {},
   "outputs": [],
   "source": [
    "y = sigmoid(x)"
   ]
  },
  {
   "cell_type": "code",
   "execution_count": 13,
   "id": "601c36e4",
   "metadata": {},
   "outputs": [
    {
     "data": {
      "image/png": "[encoded data removed]",
      "text/plain": [
       "<Figure size 432x288 with 1 Axes>"
      ]
     },
     "metadata": {
      "needs_background": "light"
     },
     "output_type": "display_data"
    }
   ],
   "source": [
    "plt.plot(x, y)\n",
    "plt.title('sigmoid')\n",
    "plt.show()"
   ]
  },
  {
   "cell_type": "code",
   "execution_count": null,
   "id": "140630a6",
   "metadata": {},
   "outputs": [],
   "source": [
    "y = 1\n",
    "y_hat = 0.98"
   ]
  },
  {
   "cell_type": "code",
   "execution_count": 14,
   "id": "00de564c",
   "metadata": {},
   "outputs": [],
   "source": [
    "def log_loss(y, y_hat):\n",
    "    loss =  y*np.log(y_hat) + (1-y)*np.log(1-y_hat)\n",
    "    return -loss"
   ]
  },
  {
   "cell_type": "code",
   "execution_count": 15,
   "id": "b5e4efa6",
   "metadata": {},
   "outputs": [
    {
     "data": {
      "text/plain": [
       "0.020202707317519466"
      ]
     },
     "execution_count": 15,
     "metadata": {},
     "output_type": "execute_result"
    }
   ],
   "source": [
    "log_loss(1, 0.98)"
   ]
  },
  {
   "cell_type": "code",
   "execution_count": 16,
   "id": "0ddde59b",
   "metadata": {},
   "outputs": [
    {
     "data": {
      "text/plain": [
       "0.6931471805599453"
      ]
     },
     "execution_count": 16,
     "metadata": {},
     "output_type": "execute_result"
    }
   ],
   "source": [
    "log_loss(1, 0.5)"
   ]
  },
  {
   "cell_type": "code",
   "execution_count": 17,
   "id": "643feb13",
   "metadata": {},
   "outputs": [
    {
     "data": {
      "text/plain": [
       "4.605170185988091"
      ]
     },
     "execution_count": 17,
     "metadata": {},
     "output_type": "execute_result"
    }
   ],
   "source": [
    "log_loss(1, 0.01)"
   ]
  },
  {
   "cell_type": "code",
   "execution_count": 18,
   "id": "9eecb22a",
   "metadata": {},
   "outputs": [
    {
     "data": {
      "text/plain": [
       "3.912023005428145"
      ]
     },
     "execution_count": 18,
     "metadata": {},
     "output_type": "execute_result"
    }
   ],
   "source": [
    "log_loss(0, 0.98)"
   ]
  },
  {
   "cell_type": "code",
   "execution_count": 19,
   "id": "380f6aec",
   "metadata": {},
   "outputs": [
    {
     "data": {
      "text/plain": [
       "0.5108256237659907"
      ]
     },
     "execution_count": 19,
     "metadata": {},
     "output_type": "execute_result"
    }
   ],
   "source": [
    "log_loss(0, 0.4)"
   ]
  },
  {
   "cell_type": "code",
   "execution_count": 20,
   "id": "b6b02f54",
   "metadata": {},
   "outputs": [
    {
     "data": {
      "text/plain": [
       "0.10536051565782628"
      ]
     },
     "execution_count": 20,
     "metadata": {},
     "output_type": "execute_result"
    }
   ],
   "source": [
    "log_loss(0, 0.1)"
   ]
  },
  {
   "cell_type": "code",
   "execution_count": 22,
   "id": "8d914596",
   "metadata": {},
   "outputs": [],
   "source": [
    "def sigmoid(z):\n",
    "    return 1/ (1 + np.exp(-z))"
   ]
  },
  {
   "cell_type": "code",
   "execution_count": 21,
   "id": "6182fe40",
   "metadata": {},
   "outputs": [],
   "source": [
    "def hypothesis(X, weights):\n",
    "    '''\n",
    "    X :  (n, d+1)\n",
    "    weights : (d+1, 1)\n",
    "    '''\n",
    "    z =  np.dot(X, weights)\n",
    "    return sigmoid(z)"
   ]
  },
  {
   "cell_type": "code",
   "execution_count": 23,
   "id": "95866463",
   "metadata": {},
   "outputs": [],
   "source": [
    "def error(X, Y, weights):\n",
    "    '''\n",
    "    X :  (n, d+1)\n",
    "    Y : (n, 1)\n",
    "    weights : (d+1, 1)\n",
    "    '''\n",
    "    Y_hat = hypothesis(X, weights)\n",
    "    \n",
    "    err = np.mean(Y*np.log(Y_hat) + (1-Y)*np.log(1-Y_hat))\n",
    "    \n",
    "    return -err"
   ]
  },
  {
   "cell_type": "code",
   "execution_count": 24,
   "id": "8e46f7f9",
   "metadata": {},
   "outputs": [],
   "source": [
    "def gradients(X, Y, weights):\n",
    "    Y_hat = hypothesis(X, weights)\n",
    "    grads = np.dot( X.T ,  (Y_hat - Y )   )    \n",
    "    return 2*grads/len(Y)"
   ]
  },
  {
   "cell_type": "code",
   "execution_count": 25,
   "id": "3aa1891a",
   "metadata": {},
   "outputs": [],
   "source": [
    "def gradient_descent(X, Y, max_itr = 200, learning_rate = 0.01):\n",
    "    \n",
    "    # step 1 : init() randomly\n",
    "    weights = np.zeros((X.shape[1], 1))\n",
    "    error_list = []\n",
    "    \n",
    "    # step 2 repeate until convergence\n",
    "    for i in range(max_itr):\n",
    "        \n",
    "        e = error(X, Y, weights)\n",
    "        error_list.append(e)\n",
    "        \n",
    "        grads = gradients(X, Y, weights)\n",
    "        \n",
    "        weights = weights - learning_rate*grads\n",
    "    \n",
    "    return weights, error_list"
   ]
  },
  {
   "cell_type": "code",
   "execution_count": 26,
   "id": "58c21f53",
   "metadata": {},
   "outputs": [
    {
     "name": "stdout",
     "output_type": "stream",
     "text": [
      "(500, 2) (500, 1)\n"
     ]
    }
   ],
   "source": [
    "from sklearn.datasets import make_classification\n",
    "\n",
    "X, y = make_classification(n_samples=500, \n",
    "                           n_features=2, \n",
    "                           n_redundant=0,\n",
    "                           n_clusters_per_class=1,\n",
    "                           random_state=5)\n",
    "\n",
    "#converting row vector to column vector\n",
    "y = y.reshape(-1, 1)\n",
    "print(X.shape, y.shape)"
   ]
  },
  {
   "cell_type": "code",
   "execution_count": 27,
   "id": "e3c6f734",
   "metadata": {},
   "outputs": [
    {
     "data": {
      "text/plain": [
       "array([[ 1.22167239, -0.4757541 ],\n",
       "       [-0.2292072 , -1.85663378],\n",
       "       [-1.34913896,  0.50458721],\n",
       "       [ 0.31402206, -1.62029248],\n",
       "       [ 1.13807877, -0.99148158]])"
      ]
     },
     "execution_count": 27,
     "metadata": {},
     "output_type": "execute_result"
    }
   ],
   "source": [
    "X[:5]"
   ]
  },
  {
   "cell_type": "code",
   "execution_count": 29,
   "id": "40a991fc",
   "metadata": {},
   "outputs": [
    {
     "data": {
      "text/plain": [
       "(500, 3)"
      ]
     },
     "execution_count": 29,
     "metadata": {},
     "output_type": "execute_result"
    }
   ],
   "source": [
    "ones = np.ones((500, 1))\n",
    "X_new = np.hstack((ones,X))\n",
    "X_new.shape"
   ]
  },
  {
   "cell_type": "code",
   "execution_count": 35,
   "id": "65b86a53",
   "metadata": {},
   "outputs": [],
   "source": [
    "opt_weights, loss = gradient_descent(X_new, y, learning_rate=0.1, max_itr = 300)"
   ]
  },
  {
   "cell_type": "code",
   "execution_count": 36,
   "id": "b3da3420",
   "metadata": {},
   "outputs": [
    {
     "data": {
      "text/plain": [
       "[<matplotlib.lines.Line2D at 0x7fea2012c4c0>]"
      ]
     },
     "execution_count": 36,
     "metadata": {},
     "output_type": "execute_result"
    },
    {
     "data": {
      "image/png": "[encoded data removed]",
      "text/plain": [
       "<Figure size 432x288 with 1 Axes>"
      ]
     },
     "metadata": {
      "needs_background": "light"
     },
     "output_type": "display_data"
    }
   ],
   "source": [
    "plt.plot(loss)"
   ]
  },
  {
   "cell_type": "code",
   "execution_count": 37,
   "id": "da4f3571",
   "metadata": {},
   "outputs": [
    {
     "data": {
      "text/plain": [
       "array([[0.56216131],\n",
       "       [3.47085501],\n",
       "       [0.39783259]])"
      ]
     },
     "execution_count": 37,
     "metadata": {},
     "output_type": "execute_result"
    }
   ],
   "source": [
    "opt_weights"
   ]
  },
  {
   "cell_type": "code",
   "execution_count": null,
   "id": "9f4625d3",
   "metadata": {},
   "outputs": [],
   "source": []
  },
  {
   "cell_type": "code",
   "execution_count": 40,
   "id": "740f9a36",
   "metadata": {},
   "outputs": [
    {
     "data": {
      "image/png": "[encoded data removed]",
      "text/plain": [
       "<Figure size 432x288 with 1 Axes>"
      ]
     },
     "metadata": {
      "needs_background": "light"
     },
     "output_type": "display_data"
    }
   ],
   "source": [
    "plt.scatter(X[:, 0], X[:, 1], c = y)\n",
    "plt.show()"
   ]
  },
  {
   "cell_type": "code",
   "execution_count": null,
   "id": "53a56014",
   "metadata": {},
   "outputs": [],
   "source": []
  },
  {
   "cell_type": "code",
   "execution_count": null,
   "id": "a8cbc3ef",
   "metadata": {},
   "outputs": [],
   "source": []
  }
 ],
 "metadata": {
  "kernelspec": {
   "display_name": "Python 3 (ipykernel)",
   "language": "python",
   "name": "python3"
  },
  "language_info": {
   "codemirror_mode": {
    "name": "ipython",
    "version": 3
   },
   "file_extension": ".py",
   "mimetype": "text/x-python",
   "name": "python",
   "nbconvert_exporter": "python",
   "pygments_lexer": "ipython3",
   "version": "3.9.7"
  }
 },
 "nbformat": 4,
 "nbformat_minor": 5
}
