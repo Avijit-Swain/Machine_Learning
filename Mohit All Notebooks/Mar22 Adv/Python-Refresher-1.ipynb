{
 "cells": [
  {
   "cell_type": "code",
   "execution_count": 1,
   "id": "1fdca1b7",
   "metadata": {},
   "outputs": [
    {
     "name": "stdout",
     "output_type": "stream",
     "text": [
      "\n"
     ]
    }
   ],
   "source": [
    "print()"
   ]
  },
  {
   "cell_type": "code",
   "execution_count": 6,
   "id": "2f29d481",
   "metadata": {},
   "outputs": [
    {
     "name": "stdout",
     "output_type": "stream",
     "text": [
      "7\n"
     ]
    }
   ],
   "source": [
    "# shift + enter\n",
    "\n",
    "print(5+2)"
   ]
  },
  {
   "cell_type": "code",
   "execution_count": 7,
   "id": "553dfed9",
   "metadata": {},
   "outputs": [
    {
     "data": {
      "text/plain": [
       "7"
      ]
     },
     "execution_count": 7,
     "metadata": {},
     "output_type": "execute_result"
    }
   ],
   "source": [
    "5+2"
   ]
  },
  {
   "cell_type": "code",
   "execution_count": 8,
   "id": "26effd95",
   "metadata": {},
   "outputs": [
    {
     "name": "stdout",
     "output_type": "stream",
     "text": [
      "Hello World\n"
     ]
    }
   ],
   "source": [
    "print(\"Hello World\")"
   ]
  },
  {
   "cell_type": "code",
   "execution_count": 9,
   "id": "9490f5a1",
   "metadata": {},
   "outputs": [
    {
     "name": "stdout",
     "output_type": "stream",
     "text": [
      "1+3\n"
     ]
    }
   ],
   "source": [
    "print(\"1+3\")"
   ]
  },
  {
   "cell_type": "code",
   "execution_count": 12,
   "id": "c981901c",
   "metadata": {},
   "outputs": [
    {
     "data": {
      "text/plain": [
       "4.5"
      ]
     },
     "execution_count": 12,
     "metadata": {},
     "output_type": "execute_result"
    }
   ],
   "source": [
    "3.5 + 1"
   ]
  },
  {
   "cell_type": "code",
   "execution_count": 13,
   "id": "dbbd68a8",
   "metadata": {},
   "outputs": [
    {
     "data": {
      "text/plain": [
       "'Scaler'"
      ]
     },
     "execution_count": 13,
     "metadata": {},
     "output_type": "execute_result"
    }
   ],
   "source": [
    "\"Scaler\""
   ]
  },
  {
   "cell_type": "code",
   "execution_count": 14,
   "id": "f4bdb022",
   "metadata": {},
   "outputs": [
    {
     "data": {
      "text/plain": [
       "'Scaler'"
      ]
     },
     "execution_count": 14,
     "metadata": {},
     "output_type": "execute_result"
    }
   ],
   "source": [
    "'Scaler'"
   ]
  },
  {
   "cell_type": "code",
   "execution_count": 15,
   "id": "af6993b9",
   "metadata": {},
   "outputs": [
    {
     "ename": "SyntaxError",
     "evalue": "invalid syntax (<ipython-input-15-c86c85be9912>, line 1)",
     "output_type": "error",
     "traceback": [
      "\u001b[0;36m  File \u001b[0;32m\"<ipython-input-15-c86c85be9912>\"\u001b[0;36m, line \u001b[0;32m1\u001b[0m\n\u001b[0;31m    'Scaler's data science program'\u001b[0m\n\u001b[0m            ^\u001b[0m\n\u001b[0;31mSyntaxError\u001b[0m\u001b[0;31m:\u001b[0m invalid syntax\n"
     ]
    }
   ],
   "source": [
    "'Scaler's data science program'"
   ]
  },
  {
   "cell_type": "code",
   "execution_count": 18,
   "id": "decf5397",
   "metadata": {},
   "outputs": [
    {
     "data": {
      "text/plain": [
       "\"Scaler's data science program\""
      ]
     },
     "execution_count": 18,
     "metadata": {},
     "output_type": "execute_result"
    }
   ],
   "source": [
    "\"Scaler's data science program\""
   ]
  },
  {
   "cell_type": "code",
   "execution_count": 22,
   "id": "422c2305",
   "metadata": {},
   "outputs": [
    {
     "name": "stdout",
     "output_type": "stream",
     "text": [
      "hello \n",
      " world\n"
     ]
    }
   ],
   "source": [
    "print('hello \\n world')"
   ]
  },
  {
   "cell_type": "code",
   "execution_count": 24,
   "id": "f03ef9ff",
   "metadata": {},
   "outputs": [],
   "source": [
    "# print(\"\"\"Scaler's DS Program \"\"\")"
   ]
  },
  {
   "cell_type": "code",
   "execution_count": 25,
   "id": "d9d79ed9",
   "metadata": {},
   "outputs": [
    {
     "data": {
      "text/plain": [
       "True"
      ]
     },
     "execution_count": 25,
     "metadata": {},
     "output_type": "execute_result"
    }
   ],
   "source": [
    "True"
   ]
  },
  {
   "cell_type": "code",
   "execution_count": 26,
   "id": "c5e904f6",
   "metadata": {},
   "outputs": [
    {
     "data": {
      "text/plain": [
       "False"
      ]
     },
     "execution_count": 26,
     "metadata": {},
     "output_type": "execute_result"
    }
   ],
   "source": [
    "False"
   ]
  },
  {
   "cell_type": "code",
   "execution_count": 27,
   "id": "69de67fd",
   "metadata": {},
   "outputs": [
    {
     "name": "stdout",
     "output_type": "stream",
     "text": [
      "5\n"
     ]
    }
   ],
   "source": [
    "x = 5\n",
    "\n",
    "print(x)"
   ]
  },
  {
   "cell_type": "code",
   "execution_count": 28,
   "id": "ae6060cf",
   "metadata": {},
   "outputs": [
    {
     "data": {
      "text/plain": [
       "int"
      ]
     },
     "execution_count": 28,
     "metadata": {},
     "output_type": "execute_result"
    }
   ],
   "source": [
    "type(5)"
   ]
  },
  {
   "cell_type": "code",
   "execution_count": 29,
   "id": "5847ab0b",
   "metadata": {},
   "outputs": [
    {
     "data": {
      "text/plain": [
       "int"
      ]
     },
     "execution_count": 29,
     "metadata": {},
     "output_type": "execute_result"
    }
   ],
   "source": [
    "type(x)"
   ]
  },
  {
   "cell_type": "code",
   "execution_count": 30,
   "id": "1d052537",
   "metadata": {},
   "outputs": [
    {
     "name": "stdout",
     "output_type": "stream",
     "text": [
      "python\n"
     ]
    }
   ],
   "source": [
    "x = \"python\"\n",
    "\n",
    "print(x)"
   ]
  },
  {
   "cell_type": "code",
   "execution_count": 31,
   "id": "ee48eca2",
   "metadata": {},
   "outputs": [
    {
     "data": {
      "text/plain": [
       "str"
      ]
     },
     "execution_count": 31,
     "metadata": {},
     "output_type": "execute_result"
    }
   ],
   "source": [
    "type(x)"
   ]
  },
  {
   "cell_type": "code",
   "execution_count": 32,
   "id": "516c6768",
   "metadata": {},
   "outputs": [
    {
     "name": "stdout",
     "output_type": "stream",
     "text": [
      "<class 'str'>\n"
     ]
    }
   ],
   "source": [
    "print(type(x))"
   ]
  },
  {
   "cell_type": "code",
   "execution_count": null,
   "id": "fe63d663",
   "metadata": {},
   "outputs": [],
   "source": []
  },
  {
   "cell_type": "markdown",
   "id": "ef12cc52",
   "metadata": {},
   "source": [
    "+, -,  *, /"
   ]
  },
  {
   "cell_type": "code",
   "execution_count": 33,
   "id": "b55694c0",
   "metadata": {},
   "outputs": [
    {
     "data": {
      "text/plain": [
       "2.6666666666666665"
      ]
     },
     "execution_count": 33,
     "metadata": {},
     "output_type": "execute_result"
    }
   ],
   "source": [
    "8/3"
   ]
  },
  {
   "cell_type": "code",
   "execution_count": 34,
   "id": "f9544ac6",
   "metadata": {},
   "outputs": [
    {
     "data": {
      "text/plain": [
       "-2.6666666666666665"
      ]
     },
     "execution_count": 34,
     "metadata": {},
     "output_type": "execute_result"
    }
   ],
   "source": [
    "-8/3"
   ]
  },
  {
   "cell_type": "code",
   "execution_count": 35,
   "id": "80d1272f",
   "metadata": {},
   "outputs": [
    {
     "data": {
      "text/plain": [
       "5.0"
      ]
     },
     "execution_count": 35,
     "metadata": {},
     "output_type": "execute_result"
    }
   ],
   "source": [
    "10/2"
   ]
  },
  {
   "cell_type": "code",
   "execution_count": 37,
   "id": "562e230f",
   "metadata": {},
   "outputs": [
    {
     "data": {
      "text/plain": [
       "2"
      ]
     },
     "execution_count": 37,
     "metadata": {},
     "output_type": "execute_result"
    }
   ],
   "source": [
    "# floor division \n",
    "\n",
    "8//3"
   ]
  },
  {
   "cell_type": "code",
   "execution_count": 38,
   "id": "ef81a88e",
   "metadata": {},
   "outputs": [
    {
     "data": {
      "text/plain": [
       "-3"
      ]
     },
     "execution_count": 38,
     "metadata": {},
     "output_type": "execute_result"
    }
   ],
   "source": [
    "-8//3"
   ]
  },
  {
   "cell_type": "code",
   "execution_count": 40,
   "id": "7deb5f5f",
   "metadata": {},
   "outputs": [
    {
     "data": {
      "text/plain": [
       "2"
      ]
     },
     "execution_count": 40,
     "metadata": {},
     "output_type": "execute_result"
    }
   ],
   "source": [
    "# modolus operator\n",
    "8%3"
   ]
  },
  {
   "cell_type": "code",
   "execution_count": 41,
   "id": "8b577be1",
   "metadata": {},
   "outputs": [],
   "source": [
    "#### Exponential operator"
   ]
  },
  {
   "cell_type": "code",
   "execution_count": 45,
   "id": "932abec7",
   "metadata": {},
   "outputs": [
    {
     "name": "stdout",
     "output_type": "stream",
     "text": [
      "32\n"
     ]
    }
   ],
   "source": [
    "print(2**5)"
   ]
  },
  {
   "cell_type": "code",
   "execution_count": 46,
   "id": "d932159a",
   "metadata": {},
   "outputs": [
    {
     "name": "stdout",
     "output_type": "stream",
     "text": [
      "0.25\n"
     ]
    }
   ],
   "source": [
    "print(2**(-2))"
   ]
  },
  {
   "cell_type": "code",
   "execution_count": 47,
   "id": "f6a77626",
   "metadata": {},
   "outputs": [
    {
     "data": {
      "text/plain": [
       "1"
      ]
     },
     "execution_count": 47,
     "metadata": {},
     "output_type": "execute_result"
    }
   ],
   "source": [
    "-8%3"
   ]
  },
  {
   "cell_type": "code",
   "execution_count": 49,
   "id": "80661ac8",
   "metadata": {},
   "outputs": [],
   "source": [
    "age = 15\n",
    "\n",
    "if (age>=18):\n",
    "    print(\"You are eligible.\")"
   ]
  },
  {
   "cell_type": "code",
   "execution_count": 57,
   "id": "3e727635",
   "metadata": {},
   "outputs": [
    {
     "name": "stdout",
     "output_type": "stream",
     "text": [
      "something else\n"
     ]
    }
   ],
   "source": [
    "age = 15\n",
    "\n",
    "if (age>=18):\n",
    "    print(\"You are eligible.\")\n",
    "    print(\"eligible\")\n",
    "    print(\"eligible\")\n",
    "print(\"something else\") "
   ]
  },
  {
   "cell_type": "code",
   "execution_count": 58,
   "id": "7a8a42ca",
   "metadata": {},
   "outputs": [
    {
     "name": "stdout",
     "output_type": "stream",
     "text": [
      "Go home kid.\n"
     ]
    }
   ],
   "source": [
    "age = 15\n",
    "\n",
    "if (age>=18):\n",
    "    print(\"You are eligible.\")\n",
    "else:\n",
    "    print(\"Go home kid.\")"
   ]
  },
  {
   "cell_type": "code",
   "execution_count": 60,
   "id": "e99cdf14",
   "metadata": {},
   "outputs": [
    {
     "name": "stdout",
     "output_type": "stream",
     "text": [
      "Almost, but not eligible.\n"
     ]
    }
   ],
   "source": [
    "age = 17\n",
    "\n",
    "if (age>=18):\n",
    "    print(\"You are eligible.\")\n",
    "elif(age>16):\n",
    "    print(\"Almost, but not eligible.\")\n",
    "else:\n",
    "    print(\"Go home kid.\")"
   ]
  },
  {
   "cell_type": "code",
   "execution_count": 62,
   "id": "00d49def",
   "metadata": {},
   "outputs": [
    {
     "name": "stdout",
     "output_type": "stream",
     "text": [
      "go\n"
     ]
    }
   ],
   "source": [
    "signal =\"green\"\n",
    "action = \"stop\" if signal =='red' else \"go\"\n",
    "\n",
    "print(action)"
   ]
  },
  {
   "cell_type": "code",
   "execution_count": 63,
   "id": "4738ded6",
   "metadata": {},
   "outputs": [
    {
     "name": "stdout",
     "output_type": "stream",
     "text": [
      "0\n",
      "1\n",
      "2\n",
      "3\n",
      "4\n"
     ]
    }
   ],
   "source": [
    "for i in range(5):\n",
    "    print(i)"
   ]
  },
  {
   "cell_type": "code",
   "execution_count": 69,
   "id": "95423181",
   "metadata": {},
   "outputs": [
    {
     "name": "stdout",
     "output_type": "stream",
     "text": [
      "1 2 3 4 5 6 7 8 9 10 "
     ]
    }
   ],
   "source": [
    "for i in range(1, 11):\n",
    "    print(i, end=\" \")"
   ]
  },
  {
   "cell_type": "code",
   "execution_count": null,
   "id": "de9da32c",
   "metadata": {},
   "outputs": [],
   "source": [
    "# print(shift + tab)\n",
    "\n",
    "# print?"
   ]
  },
  {
   "cell_type": "code",
   "execution_count": 70,
   "id": "787c20dd",
   "metadata": {},
   "outputs": [
    {
     "name": "stdout",
     "output_type": "stream",
     "text": [
      "2 4 6 8 10 12 14 16 18 20 "
     ]
    }
   ],
   "source": [
    "for i in range(1, 21):\n",
    "    if i%2==0:\n",
    "        print(i, end=\" \")"
   ]
  },
  {
   "cell_type": "code",
   "execution_count": 73,
   "id": "798f7acd",
   "metadata": {},
   "outputs": [
    {
     "name": "stdout",
     "output_type": "stream",
     "text": [
      "2 4 6 8 10 12 14 16 18 20 "
     ]
    }
   ],
   "source": [
    "for i in range(2, 21, 2):\n",
    "    print(i, end=\" \")"
   ]
  },
  {
   "cell_type": "code",
   "execution_count": 78,
   "id": "dcdc57a9",
   "metadata": {},
   "outputs": [
    {
     "name": "stdout",
     "output_type": "stream",
     "text": [
      "10 9 8 7 6 5 4 3 2 1 "
     ]
    }
   ],
   "source": [
    "for i in range(10, 0, -1):\n",
    "    print(i, end=\" \")"
   ]
  },
  {
   "cell_type": "code",
   "execution_count": null,
   "id": "97b9e897",
   "metadata": {},
   "outputs": [],
   "source": []
  },
  {
   "cell_type": "code",
   "execution_count": 81,
   "id": "90d9cd50",
   "metadata": {},
   "outputs": [
    {
     "name": "stdout",
     "output_type": "stream",
     "text": [
      "Input a command: pwd\n"
     ]
    }
   ],
   "source": [
    "cmd = input(\"Input a command: \")"
   ]
  },
  {
   "cell_type": "code",
   "execution_count": null,
   "id": "5109caa9",
   "metadata": {},
   "outputs": [],
   "source": []
  },
  {
   "cell_type": "code",
   "execution_count": 83,
   "id": "ea76005e",
   "metadata": {},
   "outputs": [
    {
     "name": "stdout",
     "output_type": "stream",
     "text": [
      "pwd\n",
      "Input a command: zip\n",
      "zip\n",
      "Input a command: exit\n"
     ]
    }
   ],
   "source": [
    "while cmd != 'exit':\n",
    "    print(cmd)\n",
    "    cmd = input(\"Input a command: \")"
   ]
  },
  {
   "cell_type": "code",
   "execution_count": 84,
   "id": "e8e90d8e",
   "metadata": {},
   "outputs": [
    {
     "name": "stdout",
     "output_type": "stream",
     "text": [
      "anything\n"
     ]
    },
    {
     "data": {
      "text/plain": [
       "'anything'"
      ]
     },
     "execution_count": 84,
     "metadata": {},
     "output_type": "execute_result"
    }
   ],
   "source": [
    "input()"
   ]
  },
  {
   "cell_type": "code",
   "execution_count": null,
   "id": "202d7277",
   "metadata": {},
   "outputs": [],
   "source": []
  },
  {
   "cell_type": "code",
   "execution_count": 91,
   "id": "64e69077",
   "metadata": {},
   "outputs": [],
   "source": [
    "def is_even(num):\n",
    "    \"\"\"\n",
    "    Checks if number is even or odd?\n",
    "    input: num (int, float)\n",
    "    returns: Boolean\n",
    "    \"\"\"\n",
    "    return num%2==0"
   ]
  },
  {
   "cell_type": "code",
   "execution_count": 89,
   "id": "52debca2",
   "metadata": {},
   "outputs": [
    {
     "data": {
      "text/plain": [
       "True"
      ]
     },
     "execution_count": 89,
     "metadata": {},
     "output_type": "execute_result"
    }
   ],
   "source": [
    "is_even(8)"
   ]
  },
  {
   "cell_type": "code",
   "execution_count": 90,
   "id": "2eb55808",
   "metadata": {},
   "outputs": [
    {
     "data": {
      "text/plain": [
       "False"
      ]
     },
     "execution_count": 90,
     "metadata": {},
     "output_type": "execute_result"
    }
   ],
   "source": [
    "is_even(3)"
   ]
  },
  {
   "cell_type": "code",
   "execution_count": 94,
   "id": "5178e65d",
   "metadata": {},
   "outputs": [
    {
     "name": "stdout",
     "output_type": "stream",
     "text": [
      "_summary_ \n",
      "Args: n (_type_): _description_ \n",
      "Returns: _type_: _description_ \n"
     ]
    }
   ],
   "source": [
    "print(\"\"\"_summary_ \n",
    "Args: n (_type_): _description_ \n",
    "Returns: _type_: _description_ \"\"\")"
   ]
  },
  {
   "cell_type": "code",
   "execution_count": null,
   "id": "b91943b9",
   "metadata": {},
   "outputs": [],
   "source": []
  },
  {
   "cell_type": "markdown",
   "id": "a2347e1f",
   "metadata": {},
   "source": [
    "### List"
   ]
  },
  {
   "cell_type": "code",
   "execution_count": 95,
   "id": "51c9e0a4",
   "metadata": {},
   "outputs": [
    {
     "name": "stdout",
     "output_type": "stream",
     "text": [
      "[90, 100, 30, 85, 'absent']\n"
     ]
    }
   ],
   "source": [
    "marks = [90, 100, 30, 85, \"absent\"]\n",
    "print(marks)"
   ]
  },
  {
   "cell_type": "code",
   "execution_count": 97,
   "id": "a37a2e30",
   "metadata": {},
   "outputs": [
    {
     "name": "stdout",
     "output_type": "stream",
     "text": [
      "<class 'list'>\n"
     ]
    }
   ],
   "source": [
    "print(type(marks))"
   ]
  },
  {
   "cell_type": "code",
   "execution_count": 98,
   "id": "4d52aec9",
   "metadata": {},
   "outputs": [
    {
     "name": "stdout",
     "output_type": "stream",
     "text": [
      "[90, 100, 30, 85, 60]\n"
     ]
    }
   ],
   "source": [
    "marks = [90, 100, 30, 85, 60]\n",
    "print(marks)"
   ]
  },
  {
   "cell_type": "code",
   "execution_count": 101,
   "id": "f4037a17",
   "metadata": {},
   "outputs": [
    {
     "data": {
      "text/plain": [
       "90"
      ]
     },
     "execution_count": 101,
     "metadata": {},
     "output_type": "execute_result"
    }
   ],
   "source": [
    "marks[0]"
   ]
  },
  {
   "cell_type": "code",
   "execution_count": 102,
   "id": "6be23d7a",
   "metadata": {},
   "outputs": [
    {
     "data": {
      "text/plain": [
       "30"
      ]
     },
     "execution_count": 102,
     "metadata": {},
     "output_type": "execute_result"
    }
   ],
   "source": [
    "marks[2]"
   ]
  },
  {
   "cell_type": "code",
   "execution_count": 103,
   "id": "3f4bc02b",
   "metadata": {},
   "outputs": [
    {
     "data": {
      "text/plain": [
       "5"
      ]
     },
     "execution_count": 103,
     "metadata": {},
     "output_type": "execute_result"
    }
   ],
   "source": [
    "len(marks)"
   ]
  },
  {
   "cell_type": "code",
   "execution_count": 104,
   "id": "8ec56810",
   "metadata": {},
   "outputs": [
    {
     "data": {
      "text/plain": [
       "60"
      ]
     },
     "execution_count": 104,
     "metadata": {},
     "output_type": "execute_result"
    }
   ],
   "source": [
    "marks[ len(marks) - 1]"
   ]
  },
  {
   "cell_type": "code",
   "execution_count": 105,
   "id": "bbca7381",
   "metadata": {},
   "outputs": [
    {
     "data": {
      "text/plain": [
       "60"
      ]
     },
     "execution_count": 105,
     "metadata": {},
     "output_type": "execute_result"
    }
   ],
   "source": [
    "# negative indexing\n",
    "\n",
    "marks[-1]"
   ]
  },
  {
   "cell_type": "code",
   "execution_count": 106,
   "id": "4fb9e203",
   "metadata": {},
   "outputs": [
    {
     "data": {
      "text/plain": [
       "85"
      ]
     },
     "execution_count": 106,
     "metadata": {},
     "output_type": "execute_result"
    }
   ],
   "source": [
    "marks[-2]"
   ]
  },
  {
   "cell_type": "code",
   "execution_count": 107,
   "id": "a6472cc6",
   "metadata": {},
   "outputs": [
    {
     "data": {
      "text/plain": [
       "[90, 100, 30, 85, 60]"
      ]
     },
     "execution_count": 107,
     "metadata": {},
     "output_type": "execute_result"
    }
   ],
   "source": [
    "marks"
   ]
  },
  {
   "cell_type": "code",
   "execution_count": 109,
   "id": "cc1e84ee",
   "metadata": {},
   "outputs": [
    {
     "name": "stdout",
     "output_type": "stream",
     "text": [
      "[100, 30, 85]\n"
     ]
    }
   ],
   "source": [
    "fav = marks[1:4]\n",
    "print(fav)"
   ]
  },
  {
   "cell_type": "code",
   "execution_count": 110,
   "id": "a12250b1",
   "metadata": {},
   "outputs": [
    {
     "data": {
      "text/plain": [
       "[90, 100, 30, 85]"
      ]
     },
     "execution_count": 110,
     "metadata": {},
     "output_type": "execute_result"
    }
   ],
   "source": [
    "marks[:4]"
   ]
  },
  {
   "cell_type": "code",
   "execution_count": 111,
   "id": "c21251de",
   "metadata": {},
   "outputs": [
    {
     "data": {
      "text/plain": [
       "[100, 30, 85, 60]"
      ]
     },
     "execution_count": 111,
     "metadata": {},
     "output_type": "execute_result"
    }
   ],
   "source": [
    "marks[1:]"
   ]
  },
  {
   "cell_type": "code",
   "execution_count": 112,
   "id": "3aad198d",
   "metadata": {},
   "outputs": [
    {
     "data": {
      "text/plain": [
       "[90, 100, 30, 85, 60]"
      ]
     },
     "execution_count": 112,
     "metadata": {},
     "output_type": "execute_result"
    }
   ],
   "source": [
    "marks[:]"
   ]
  },
  {
   "cell_type": "code",
   "execution_count": 118,
   "id": "e3d825b0",
   "metadata": {},
   "outputs": [
    {
     "data": {
      "text/plain": [
       "[60, 85, 30, 100]"
      ]
     },
     "execution_count": 118,
     "metadata": {},
     "output_type": "execute_result"
    }
   ],
   "source": [
    "marks[ -1: -5 : -1]"
   ]
  },
  {
   "cell_type": "code",
   "execution_count": 120,
   "id": "b2330867",
   "metadata": {},
   "outputs": [
    {
     "data": {
      "text/plain": [
       "[60, 85, 30, 100, 90]"
      ]
     },
     "execution_count": 120,
     "metadata": {},
     "output_type": "execute_result"
    }
   ],
   "source": [
    "marks[ : :-1]"
   ]
  },
  {
   "cell_type": "code",
   "execution_count": 123,
   "id": "0493022c",
   "metadata": {},
   "outputs": [
    {
     "data": {
      "text/plain": [
       "100"
      ]
     },
     "execution_count": 123,
     "metadata": {},
     "output_type": "execute_result"
    }
   ],
   "source": [
    "max(marks)"
   ]
  },
  {
   "cell_type": "code",
   "execution_count": 124,
   "id": "e6f2143f",
   "metadata": {},
   "outputs": [
    {
     "data": {
      "text/plain": [
       "30"
      ]
     },
     "execution_count": 124,
     "metadata": {},
     "output_type": "execute_result"
    }
   ],
   "source": [
    "min(marks)"
   ]
  },
  {
   "cell_type": "code",
   "execution_count": 125,
   "id": "6a1011cd",
   "metadata": {},
   "outputs": [
    {
     "data": {
      "text/plain": [
       "365"
      ]
     },
     "execution_count": 125,
     "metadata": {},
     "output_type": "execute_result"
    }
   ],
   "source": [
    "sum(marks)"
   ]
  },
  {
   "cell_type": "code",
   "execution_count": 126,
   "id": "68a52740",
   "metadata": {},
   "outputs": [
    {
     "data": {
      "text/plain": [
       "73.0"
      ]
     },
     "execution_count": 126,
     "metadata": {},
     "output_type": "execute_result"
    }
   ],
   "source": [
    "sum(marks)/len(marks)"
   ]
  },
  {
   "cell_type": "code",
   "execution_count": 127,
   "id": "349ac937",
   "metadata": {},
   "outputs": [
    {
     "ename": "TypeError",
     "evalue": "unsupported operand type(s) for +: 'int' and 'str'",
     "output_type": "error",
     "traceback": [
      "\u001b[0;31m---------------------------------------------------------------------------\u001b[0m",
      "\u001b[0;31mTypeError\u001b[0m                                 Traceback (most recent call last)",
      "\u001b[0;32m<ipython-input-127-6885116cf544>\u001b[0m in \u001b[0;36m<module>\u001b[0;34m\u001b[0m\n\u001b[0;32m----> 1\u001b[0;31m \u001b[0msum\u001b[0m\u001b[0;34m(\u001b[0m\u001b[0;34m[\u001b[0m\u001b[0;36m30\u001b[0m\u001b[0;34m,\u001b[0m\u001b[0;36m40\u001b[0m\u001b[0;34m,\u001b[0m \u001b[0;36m50\u001b[0m\u001b[0;34m,\u001b[0m \u001b[0;34m\"absent\"\u001b[0m\u001b[0;34m]\u001b[0m\u001b[0;34m)\u001b[0m\u001b[0;34m\u001b[0m\u001b[0;34m\u001b[0m\u001b[0m\n\u001b[0m",
      "\u001b[0;31mTypeError\u001b[0m: unsupported operand type(s) for +: 'int' and 'str'"
     ]
    }
   ],
   "source": [
    "sum([30,40, 50, \"absent\"])"
   ]
  },
  {
   "cell_type": "code",
   "execution_count": 128,
   "id": "71581b95",
   "metadata": {},
   "outputs": [
    {
     "data": {
      "text/plain": [
       "[1, 2, 3, 4, 5]"
      ]
     },
     "execution_count": 128,
     "metadata": {},
     "output_type": "execute_result"
    }
   ],
   "source": [
    "[1,2,3] + [4,5]"
   ]
  },
  {
   "cell_type": "code",
   "execution_count": 129,
   "id": "16ffe97f",
   "metadata": {},
   "outputs": [
    {
     "data": {
      "text/plain": [
       "[1, 2, 3, 1, 2, 3]"
      ]
     },
     "execution_count": 129,
     "metadata": {},
     "output_type": "execute_result"
    }
   ],
   "source": [
    "[1,2,3]*2"
   ]
  },
  {
   "cell_type": "code",
   "execution_count": 130,
   "id": "fb76e372",
   "metadata": {},
   "outputs": [
    {
     "ename": "TypeError",
     "evalue": "can't multiply sequence by non-int of type 'list'",
     "output_type": "error",
     "traceback": [
      "\u001b[0;31m---------------------------------------------------------------------------\u001b[0m",
      "\u001b[0;31mTypeError\u001b[0m                                 Traceback (most recent call last)",
      "\u001b[0;32m<ipython-input-130-f6cc06d40851>\u001b[0m in \u001b[0;36m<module>\u001b[0;34m\u001b[0m\n\u001b[0;32m----> 1\u001b[0;31m \u001b[0;34m[\u001b[0m\u001b[0;36m1\u001b[0m\u001b[0;34m,\u001b[0m\u001b[0;36m2\u001b[0m\u001b[0;34m,\u001b[0m\u001b[0;36m3\u001b[0m\u001b[0;34m]\u001b[0m\u001b[0;34m*\u001b[0m\u001b[0;34m[\u001b[0m\u001b[0;36m1\u001b[0m\u001b[0;34m,\u001b[0m\u001b[0;36m2\u001b[0m\u001b[0;34m,\u001b[0m\u001b[0;36m3\u001b[0m\u001b[0;34m]\u001b[0m\u001b[0;34m\u001b[0m\u001b[0;34m\u001b[0m\u001b[0m\n\u001b[0m",
      "\u001b[0;31mTypeError\u001b[0m: can't multiply sequence by non-int of type 'list'"
     ]
    }
   ],
   "source": [
    "[1,2,3]*[1,2,3]"
   ]
  },
  {
   "cell_type": "code",
   "execution_count": 135,
   "id": "2618ff1e",
   "metadata": {},
   "outputs": [
    {
     "name": "stdout",
     "output_type": "stream",
     "text": [
      "90\n",
      "100\n",
      "30\n",
      "85\n",
      "60\n"
     ]
    }
   ],
   "source": [
    "for ele in marks:\n",
    "    print(ele)"
   ]
  },
  {
   "cell_type": "code",
   "execution_count": null,
   "id": "dc026b9d",
   "metadata": {},
   "outputs": [],
   "source": []
  },
  {
   "cell_type": "code",
   "execution_count": 136,
   "id": "2b1c76fb",
   "metadata": {},
   "outputs": [],
   "source": [
    "a = [10,20,30]\n",
    "b = a\n",
    "c = [10,20,30]\n",
    "d = list(a)\n",
    "e = a[:]"
   ]
  },
  {
   "cell_type": "code",
   "execution_count": 142,
   "id": "e27ae280",
   "metadata": {},
   "outputs": [
    {
     "name": "stdout",
     "output_type": "stream",
     "text": [
      "True\n",
      "True\n",
      "True\n",
      "True\n",
      "True\n"
     ]
    }
   ],
   "source": [
    "print(a == a)\n",
    "print(a == b)\n",
    "print(a == c)\n",
    "print(a == d)\n",
    "print(a == e)"
   ]
  },
  {
   "cell_type": "code",
   "execution_count": 144,
   "id": "50cb63a3",
   "metadata": {},
   "outputs": [],
   "source": [
    "a[0] = 100"
   ]
  },
  {
   "cell_type": "code",
   "execution_count": 145,
   "id": "b81ae93e",
   "metadata": {},
   "outputs": [
    {
     "name": "stdout",
     "output_type": "stream",
     "text": [
      "True\n",
      "True\n",
      "False\n",
      "False\n",
      "False\n"
     ]
    }
   ],
   "source": [
    "print(a == a)\n",
    "print(a == b)\n",
    "print(a == c)\n",
    "print(a == d)\n",
    "print(a == e)"
   ]
  },
  {
   "cell_type": "code",
   "execution_count": 146,
   "id": "4b4db06d",
   "metadata": {},
   "outputs": [
    {
     "data": {
      "text/plain": [
       "140260097084608"
      ]
     },
     "execution_count": 146,
     "metadata": {},
     "output_type": "execute_result"
    }
   ],
   "source": [
    "id(a)"
   ]
  },
  {
   "cell_type": "code",
   "execution_count": 147,
   "id": "c6fc4d1b",
   "metadata": {},
   "outputs": [
    {
     "data": {
      "text/plain": [
       "140260097084608"
      ]
     },
     "execution_count": 147,
     "metadata": {},
     "output_type": "execute_result"
    }
   ],
   "source": [
    "id(b)"
   ]
  },
  {
   "cell_type": "code",
   "execution_count": 148,
   "id": "37a05a2e",
   "metadata": {},
   "outputs": [
    {
     "data": {
      "text/plain": [
       "140260095409472"
      ]
     },
     "execution_count": 148,
     "metadata": {},
     "output_type": "execute_result"
    }
   ],
   "source": [
    "id(c)"
   ]
  },
  {
   "cell_type": "code",
   "execution_count": 149,
   "id": "eec69319",
   "metadata": {},
   "outputs": [
    {
     "data": {
      "text/plain": [
       "140260097244352"
      ]
     },
     "execution_count": 149,
     "metadata": {},
     "output_type": "execute_result"
    }
   ],
   "source": [
    "id(d)"
   ]
  },
  {
   "cell_type": "code",
   "execution_count": 150,
   "id": "0487f16a",
   "metadata": {},
   "outputs": [
    {
     "data": {
      "text/plain": [
       "140260210476992"
      ]
     },
     "execution_count": 150,
     "metadata": {},
     "output_type": "execute_result"
    }
   ],
   "source": [
    "id(e)"
   ]
  },
  {
   "cell_type": "code",
   "execution_count": 152,
   "id": "b630f7fa",
   "metadata": {},
   "outputs": [
    {
     "name": "stdout",
     "output_type": "stream",
     "text": [
      "True\n",
      "False\n"
     ]
    }
   ],
   "source": [
    "print(a is b)\n",
    "print(a is c)"
   ]
  },
  {
   "cell_type": "code",
   "execution_count": null,
   "id": "dd919d53",
   "metadata": {},
   "outputs": [],
   "source": []
  },
  {
   "cell_type": "code",
   "execution_count": 154,
   "id": "d2db92d3",
   "metadata": {},
   "outputs": [],
   "source": [
    "marks.append(5)"
   ]
  },
  {
   "cell_type": "code",
   "execution_count": 155,
   "id": "edbadb3e",
   "metadata": {},
   "outputs": [
    {
     "name": "stdout",
     "output_type": "stream",
     "text": [
      "[90, 100, 30, 85, 60, 5]\n"
     ]
    }
   ],
   "source": [
    "print(marks)"
   ]
  },
  {
   "cell_type": "code",
   "execution_count": 156,
   "id": "5b6a9ceb",
   "metadata": {},
   "outputs": [
    {
     "data": {
      "text/plain": [
       "5"
      ]
     },
     "execution_count": 156,
     "metadata": {},
     "output_type": "execute_result"
    }
   ],
   "source": [
    "marks.pop()"
   ]
  },
  {
   "cell_type": "code",
   "execution_count": 158,
   "id": "fc6bf130",
   "metadata": {},
   "outputs": [
    {
     "data": {
      "text/plain": [
       "30"
      ]
     },
     "execution_count": 158,
     "metadata": {},
     "output_type": "execute_result"
    }
   ],
   "source": [
    "marks.pop(2)"
   ]
  },
  {
   "cell_type": "code",
   "execution_count": 159,
   "id": "bd29f0bc",
   "metadata": {},
   "outputs": [
    {
     "data": {
      "text/plain": [
       "[90, 100, 85, 60]"
      ]
     },
     "execution_count": 159,
     "metadata": {},
     "output_type": "execute_result"
    }
   ],
   "source": [
    "marks"
   ]
  },
  {
   "cell_type": "code",
   "execution_count": 160,
   "id": "b1cfce75",
   "metadata": {},
   "outputs": [],
   "source": [
    "marks.insert(0, 80)"
   ]
  },
  {
   "cell_type": "code",
   "execution_count": 161,
   "id": "7dbcbdda",
   "metadata": {},
   "outputs": [
    {
     "data": {
      "text/plain": [
       "[80, 90, 100, 85, 60]"
      ]
     },
     "execution_count": 161,
     "metadata": {},
     "output_type": "execute_result"
    }
   ],
   "source": [
    "marks"
   ]
  },
  {
   "cell_type": "code",
   "execution_count": 162,
   "id": "4e4d299b",
   "metadata": {},
   "outputs": [],
   "source": [
    "marks.append([10,20])"
   ]
  },
  {
   "cell_type": "code",
   "execution_count": 163,
   "id": "b7838a94",
   "metadata": {},
   "outputs": [
    {
     "data": {
      "text/plain": [
       "[80, 90, 100, 85, 60, [10, 20]]"
      ]
     },
     "execution_count": 163,
     "metadata": {},
     "output_type": "execute_result"
    }
   ],
   "source": [
    "marks"
   ]
  },
  {
   "cell_type": "code",
   "execution_count": 164,
   "id": "67b7ee62",
   "metadata": {},
   "outputs": [],
   "source": [
    "marks.extend([200,300])"
   ]
  },
  {
   "cell_type": "code",
   "execution_count": 165,
   "id": "d6eb8600",
   "metadata": {},
   "outputs": [
    {
     "data": {
      "text/plain": [
       "[80, 90, 100, 85, 60, [10, 20], 200, 300]"
      ]
     },
     "execution_count": 165,
     "metadata": {},
     "output_type": "execute_result"
    }
   ],
   "source": [
    "marks"
   ]
  },
  {
   "cell_type": "code",
   "execution_count": 166,
   "id": "5e0da0a8",
   "metadata": {},
   "outputs": [],
   "source": [
    "matrix = [ [1,2,3] , [4,5,6], [7,8,9]]"
   ]
  },
  {
   "cell_type": "code",
   "execution_count": 167,
   "id": "36cdde0f",
   "metadata": {},
   "outputs": [
    {
     "name": "stdout",
     "output_type": "stream",
     "text": [
      "[[1, 2, 3], [4, 5, 6], [7, 8, 9]]\n"
     ]
    }
   ],
   "source": [
    "print(matrix)"
   ]
  },
  {
   "cell_type": "code",
   "execution_count": 171,
   "id": "48daf8f3",
   "metadata": {},
   "outputs": [
    {
     "data": {
      "text/plain": [
       "8"
      ]
     },
     "execution_count": 171,
     "metadata": {},
     "output_type": "execute_result"
    }
   ],
   "source": [
    "matrix[2][1]"
   ]
  },
  {
   "cell_type": "code",
   "execution_count": null,
   "id": "b03e5398",
   "metadata": {},
   "outputs": [],
   "source": []
  },
  {
   "cell_type": "code",
   "execution_count": 172,
   "id": "f51e2533",
   "metadata": {},
   "outputs": [],
   "source": [
    "s = \"Scaler\""
   ]
  },
  {
   "cell_type": "code",
   "execution_count": 173,
   "id": "c918e423",
   "metadata": {},
   "outputs": [
    {
     "data": {
      "text/plain": [
       "['S', 'c', 'a', 'l', 'e', 'r']"
      ]
     },
     "execution_count": 173,
     "metadata": {},
     "output_type": "execute_result"
    }
   ],
   "source": [
    "list(s)"
   ]
  },
  {
   "cell_type": "code",
   "execution_count": 175,
   "id": "3236bbfb",
   "metadata": {},
   "outputs": [
    {
     "name": "stdout",
     "output_type": "stream",
     "text": [
      "S c a l e r "
     ]
    }
   ],
   "source": [
    "for i in s:\n",
    "    print(i, end= \" \")"
   ]
  },
  {
   "cell_type": "code",
   "execution_count": 176,
   "id": "2fcabd3f",
   "metadata": {},
   "outputs": [],
   "source": [
    "st = \"\"\"Hello sir, \n",
    "Hope you're doing fine.\n",
    "\n",
    "xyz\n",
    "\n",
    "Thank you,\n",
    "Mohit\"\"\""
   ]
  },
  {
   "cell_type": "code",
   "execution_count": 177,
   "id": "db19dde3",
   "metadata": {},
   "outputs": [
    {
     "name": "stdout",
     "output_type": "stream",
     "text": [
      "Hello sir, \n",
      "Hope you're doing fine.\n",
      "\n",
      "xyz\n",
      "\n",
      "Thank you,\n",
      "Mohit\n"
     ]
    }
   ],
   "source": [
    "print(st)"
   ]
  },
  {
   "cell_type": "code",
   "execution_count": 178,
   "id": "c404926a",
   "metadata": {},
   "outputs": [],
   "source": [
    "st = \"Alexa, Switch off the lights.\""
   ]
  },
  {
   "cell_type": "code",
   "execution_count": 179,
   "id": "83bedcf2",
   "metadata": {},
   "outputs": [
    {
     "data": {
      "text/plain": [
       "'Switch off'"
      ]
     },
     "execution_count": 179,
     "metadata": {},
     "output_type": "execute_result"
    }
   ],
   "source": [
    "# string slicing\n",
    "st[7:17]"
   ]
  },
  {
   "cell_type": "code",
   "execution_count": 180,
   "id": "2cebc049",
   "metadata": {},
   "outputs": [
    {
     "data": {
      "text/plain": [
       "'Sic f'"
      ]
     },
     "execution_count": 180,
     "metadata": {},
     "output_type": "execute_result"
    }
   ],
   "source": [
    "st[7:17:2]"
   ]
  },
  {
   "cell_type": "code",
   "execution_count": 181,
   "id": "e2e44302",
   "metadata": {},
   "outputs": [
    {
     "data": {
      "text/plain": [
       "'.sthgil eht ffo hctiwS ,axelA'"
      ]
     },
     "execution_count": 181,
     "metadata": {},
     "output_type": "execute_result"
    }
   ],
   "source": [
    "st[::-1]"
   ]
  },
  {
   "cell_type": "code",
   "execution_count": 187,
   "id": "9275ba4c",
   "metadata": {},
   "outputs": [],
   "source": [
    "s = \"Hello World\""
   ]
  },
  {
   "cell_type": "code",
   "execution_count": 188,
   "id": "69644e7a",
   "metadata": {},
   "outputs": [
    {
     "data": {
      "text/plain": [
       "140260615840432"
      ]
     },
     "execution_count": 188,
     "metadata": {},
     "output_type": "execute_result"
    }
   ],
   "source": [
    "id(s)"
   ]
  },
  {
   "cell_type": "code",
   "execution_count": 189,
   "id": "1198bfa1",
   "metadata": {},
   "outputs": [
    {
     "data": {
      "text/plain": [
       "'H'"
      ]
     },
     "execution_count": 189,
     "metadata": {},
     "output_type": "execute_result"
    }
   ],
   "source": [
    "s[0]"
   ]
  },
  {
   "cell_type": "code",
   "execution_count": 190,
   "id": "9b7f34e9",
   "metadata": {},
   "outputs": [
    {
     "ename": "TypeError",
     "evalue": "'str' object does not support item assignment",
     "output_type": "error",
     "traceback": [
      "\u001b[0;31m---------------------------------------------------------------------------\u001b[0m",
      "\u001b[0;31mTypeError\u001b[0m                                 Traceback (most recent call last)",
      "\u001b[0;32m<ipython-input-190-191ee95fd5d4>\u001b[0m in \u001b[0;36m<module>\u001b[0;34m\u001b[0m\n\u001b[0;32m----> 1\u001b[0;31m \u001b[0ms\u001b[0m\u001b[0;34m[\u001b[0m\u001b[0;36m0\u001b[0m\u001b[0;34m]\u001b[0m \u001b[0;34m=\u001b[0m \u001b[0;34m\"Y\"\u001b[0m\u001b[0;34m\u001b[0m\u001b[0;34m\u001b[0m\u001b[0m\n\u001b[0m",
      "\u001b[0;31mTypeError\u001b[0m: 'str' object does not support item assignment"
     ]
    }
   ],
   "source": [
    "s[0] = \"Y\""
   ]
  },
  {
   "cell_type": "code",
   "execution_count": 191,
   "id": "a553b685",
   "metadata": {},
   "outputs": [],
   "source": [
    "s = s + \" welcome back\""
   ]
  },
  {
   "cell_type": "code",
   "execution_count": 192,
   "id": "b65f9d76",
   "metadata": {},
   "outputs": [
    {
     "name": "stdout",
     "output_type": "stream",
     "text": [
      "Hello World welcome back\n"
     ]
    }
   ],
   "source": [
    "print(s)"
   ]
  },
  {
   "cell_type": "code",
   "execution_count": 193,
   "id": "4fd875ef",
   "metadata": {},
   "outputs": [
    {
     "data": {
      "text/plain": [
       "140260215236608"
      ]
     },
     "execution_count": 193,
     "metadata": {},
     "output_type": "execute_result"
    }
   ],
   "source": [
    "id(s)"
   ]
  },
  {
   "cell_type": "code",
   "execution_count": 194,
   "id": "fb502e4e",
   "metadata": {},
   "outputs": [
    {
     "name": "stdout",
     "output_type": "stream",
     "text": [
      "4345698784\n",
      "4345698816\n"
     ]
    }
   ],
   "source": [
    "a = 5\n",
    "print(id(a))\n",
    "a += 1\n",
    "print(id(a))"
   ]
  },
  {
   "cell_type": "code",
   "execution_count": null,
   "id": "9217c8e8",
   "metadata": {},
   "outputs": [],
   "source": []
  },
  {
   "cell_type": "code",
   "execution_count": 219,
   "id": "1c83cc8f",
   "metadata": {},
   "outputs": [],
   "source": [
    "a = \"hello\"\n",
    "b = a\n",
    "c = str(a)\n",
    "d = a[:]\n",
    "e = \"hello\""
   ]
  },
  {
   "cell_type": "code",
   "execution_count": 220,
   "id": "5000af7c",
   "metadata": {},
   "outputs": [
    {
     "name": "stdout",
     "output_type": "stream",
     "text": [
      "hello hello hello hello hello\n"
     ]
    }
   ],
   "source": [
    "print(a,b,c,d,e)"
   ]
  },
  {
   "cell_type": "code",
   "execution_count": 221,
   "id": "fbe1331a",
   "metadata": {},
   "outputs": [
    {
     "name": "stdout",
     "output_type": "stream",
     "text": [
      "True\n",
      "True\n",
      "True\n",
      "True\n",
      "True\n"
     ]
    }
   ],
   "source": [
    "print(a==a)\n",
    "print(a==b)\n",
    "print(a==c)\n",
    "print(a==d)\n",
    "print(a==e)"
   ]
  },
  {
   "cell_type": "code",
   "execution_count": 222,
   "id": "4554ca81",
   "metadata": {},
   "outputs": [
    {
     "name": "stdout",
     "output_type": "stream",
     "text": [
      "True\n",
      "True\n",
      "True\n",
      "True\n",
      "True\n"
     ]
    }
   ],
   "source": [
    "print(a is a)\n",
    "print(a is b)\n",
    "print(a is c)\n",
    "print(a is d)\n",
    "print(a is e)"
   ]
  },
  {
   "cell_type": "code",
   "execution_count": 223,
   "id": "6e5ca729",
   "metadata": {},
   "outputs": [
    {
     "name": "stdout",
     "output_type": "stream",
     "text": [
      "140260615786992\n",
      "140260615786992\n",
      "140260615786992\n",
      "140260615786992\n",
      "140260615786992\n"
     ]
    }
   ],
   "source": [
    "print(id(a))\n",
    "print(id(b))\n",
    "print(id(c))\n",
    "print(id(d))\n",
    "print(id(e))"
   ]
  },
  {
   "cell_type": "code",
   "execution_count": null,
   "id": "45f3f5c1",
   "metadata": {},
   "outputs": [],
   "source": []
  },
  {
   "cell_type": "code",
   "execution_count": 233,
   "id": "fb7ade32",
   "metadata": {},
   "outputs": [],
   "source": [
    "no1 = 257\n",
    "no2 = 257"
   ]
  },
  {
   "cell_type": "code",
   "execution_count": 234,
   "id": "cb0e4009",
   "metadata": {},
   "outputs": [
    {
     "data": {
      "text/plain": [
       "140260617875568"
      ]
     },
     "execution_count": 234,
     "metadata": {},
     "output_type": "execute_result"
    }
   ],
   "source": [
    "id(no1)"
   ]
  },
  {
   "cell_type": "code",
   "execution_count": 235,
   "id": "9ce78d19",
   "metadata": {},
   "outputs": [
    {
     "data": {
      "text/plain": [
       "140260617875824"
      ]
     },
     "execution_count": 235,
     "metadata": {},
     "output_type": "execute_result"
    }
   ],
   "source": [
    "id(no2)"
   ]
  },
  {
   "cell_type": "code",
   "execution_count": null,
   "id": "94d8216e",
   "metadata": {},
   "outputs": [],
   "source": []
  },
  {
   "cell_type": "code",
   "execution_count": 236,
   "id": "479a1fff",
   "metadata": {},
   "outputs": [],
   "source": [
    "s = \"Hello world\""
   ]
  },
  {
   "cell_type": "code",
   "execution_count": 237,
   "id": "76488601",
   "metadata": {},
   "outputs": [
    {
     "data": {
      "text/plain": [
       "'HELLO WORLD'"
      ]
     },
     "execution_count": 237,
     "metadata": {},
     "output_type": "execute_result"
    }
   ],
   "source": [
    "s.upper()"
   ]
  },
  {
   "cell_type": "code",
   "execution_count": 238,
   "id": "f3f1d5da",
   "metadata": {},
   "outputs": [
    {
     "data": {
      "text/plain": [
       "'hello world'"
      ]
     },
     "execution_count": 238,
     "metadata": {},
     "output_type": "execute_result"
    }
   ],
   "source": [
    "s.lower()"
   ]
  },
  {
   "cell_type": "code",
   "execution_count": 239,
   "id": "61152189",
   "metadata": {},
   "outputs": [
    {
     "data": {
      "text/plain": [
       "1"
      ]
     },
     "execution_count": 239,
     "metadata": {},
     "output_type": "execute_result"
    }
   ],
   "source": [
    "s.index(\"e\")"
   ]
  },
  {
   "cell_type": "code",
   "execution_count": 240,
   "id": "26bc639e",
   "metadata": {},
   "outputs": [
    {
     "data": {
      "text/plain": [
       "'e'"
      ]
     },
     "execution_count": 240,
     "metadata": {},
     "output_type": "execute_result"
    }
   ],
   "source": [
    "s[1]"
   ]
  },
  {
   "cell_type": "code",
   "execution_count": null,
   "id": "bade5acd",
   "metadata": {},
   "outputs": [],
   "source": [
    "# s.find()"
   ]
  },
  {
   "cell_type": "code",
   "execution_count": 242,
   "id": "76a9a085",
   "metadata": {},
   "outputs": [
    {
     "data": {
      "text/plain": [
       "7"
      ]
     },
     "execution_count": 242,
     "metadata": {},
     "output_type": "execute_result"
    }
   ],
   "source": [
    "s.index(\"o\", 5)"
   ]
  },
  {
   "cell_type": "code",
   "execution_count": 244,
   "id": "8f290f0c",
   "metadata": {},
   "outputs": [
    {
     "data": {
      "text/plain": [
       "2"
      ]
     },
     "execution_count": 244,
     "metadata": {},
     "output_type": "execute_result"
    }
   ],
   "source": [
    "s.count('o')"
   ]
  },
  {
   "cell_type": "code",
   "execution_count": 247,
   "id": "8ff8efd3",
   "metadata": {},
   "outputs": [
    {
     "data": {
      "text/plain": [
       "True"
      ]
     },
     "execution_count": 247,
     "metadata": {},
     "output_type": "execute_result"
    }
   ],
   "source": [
    "s.startswith(\"He\")"
   ]
  },
  {
   "cell_type": "code",
   "execution_count": 248,
   "id": "80955e8e",
   "metadata": {},
   "outputs": [
    {
     "data": {
      "text/plain": [
       "False"
      ]
     },
     "execution_count": 248,
     "metadata": {},
     "output_type": "execute_result"
    }
   ],
   "source": [
    "s.endswith(\".jpg\")"
   ]
  },
  {
   "cell_type": "code",
   "execution_count": null,
   "id": "470e98a0",
   "metadata": {},
   "outputs": [],
   "source": [
    "# split --> string to list\n",
    "# join --> list to string"
   ]
  },
  {
   "cell_type": "code",
   "execution_count": null,
   "id": "d2fd48c4",
   "metadata": {},
   "outputs": [],
   "source": []
  },
  {
   "cell_type": "code",
   "execution_count": 249,
   "id": "f2e4194f",
   "metadata": {},
   "outputs": [
    {
     "name": "stdout",
     "output_type": "stream",
     "text": [
      "Area of rectange having length 5 and breadth 3 = 15\n"
     ]
    }
   ],
   "source": [
    "length = 5\n",
    "breadth = 3\n",
    "area = length*breadth\n",
    "\n",
    "print(f\"Area of rectange having length {length} and breadth {breadth} = {area}\")"
   ]
  },
  {
   "cell_type": "code",
   "execution_count": 252,
   "id": "de52831a",
   "metadata": {},
   "outputs": [
    {
     "name": "stdout",
     "output_type": "stream",
     "text": [
      "Area of rectange having length 5 and breadth 3 = 15\n"
     ]
    }
   ],
   "source": [
    "print(\"Area of rectange having length {} and breadth {} = {}\".\\\n",
    "      format(length,breadth, area))"
   ]
  },
  {
   "cell_type": "code",
   "execution_count": null,
   "id": "f3102758",
   "metadata": {},
   "outputs": [],
   "source": []
  }
 ],
 "metadata": {
  "kernelspec": {
   "display_name": "Python 3",
   "language": "python",
   "name": "python3"
  },
  "language_info": {
   "codemirror_mode": {
    "name": "ipython",
    "version": 3
   },
   "file_extension": ".py",
   "mimetype": "text/x-python",
   "name": "python",
   "nbconvert_exporter": "python",
   "pygments_lexer": "ipython3",
   "version": "3.8.8"
  }
 },
 "nbformat": 4,
 "nbformat_minor": 5
}
