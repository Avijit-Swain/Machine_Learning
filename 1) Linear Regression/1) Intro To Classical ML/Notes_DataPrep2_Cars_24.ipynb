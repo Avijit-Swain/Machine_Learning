{
 "cells": [
  {
   "cell_type": "markdown",
   "id": "82e20bd8",
   "metadata": {
    "id": "82e20bd8"
   },
   "source": [
    "\n",
    "### Business case Introduction\n",
    "\n",
    "**Cars24** is one of the leading used-car buying and selling platform in India. \n",
    "\n",
    "#### Current methodology to estimate the selling price has three major components\n",
    "1. Past records of the \"Selling Prices\" of the same _Make_ and _Model_\n",
    "2. Rule based calculations for the depreciation of the car\n",
    "2. Rule based calculation for condition of the vehicle\n",
    "\n",
    "As the **Pricing Data Scientist working at Cars24, you are given a task**\n",
    "\n",
    "### GOAL: To automate the process of estimating price of the used car\n",
    "\n",
    "\n"
   ]
  },
  {
   "cell_type": "markdown",
   "id": "954215a3",
   "metadata": {
    "id": "954215a3"
   },
   "source": [
    "## Exploratory Data Analysis"
   ]
  },
  {
   "cell_type": "code",
   "execution_count": 1,
   "id": "5d64b17c",
   "metadata": {
    "id": "5d64b17c"
   },
   "outputs": [],
   "source": [
    "import numpy as np\n",
    "import pandas as pd\n",
    "import matplotlib.pyplot as plt\n",
    "import seaborn as sns"
   ]
  },
  {
   "cell_type": "code",
   "execution_count": 2,
   "id": "qM2lYVDC_Y-n",
   "metadata": {
    "colab": {
     "base_uri": "https://localhost:8080/"
    },
    "id": "qM2lYVDC_Y-n",
    "outputId": "e8e0d3bb-9593-4f71-f23f-50405cf82d86"
   },
   "outputs": [
    {
     "name": "stderr",
     "output_type": "stream",
     "text": [
      "'gdown' is not recognized as an internal or external command,\n",
      "operable program or batch file.\n"
     ]
    }
   ],
   "source": [
    "!gdown 18QuoyuqmNKmR9mba5he4ojPc4KzkIs3t"
   ]
  },
  {
   "cell_type": "markdown",
   "id": "3ec819f5",
   "metadata": {
    "id": "3ec819f5"
   },
   "source": [
    "### Overview"
   ]
  },
  {
   "cell_type": "code",
   "execution_count": 2,
   "id": "b9d4a0c2",
   "metadata": {
    "colab": {
     "base_uri": "https://localhost:8080/",
     "height": 389
    },
    "id": "b9d4a0c2",
    "outputId": "9f49e336-35c8-4ac6-d7ce-78ac3c01bc20"
   },
   "outputs": [
    {
     "data": {
      "text/html": [
       "<div>\n",
       "<style scoped>\n",
       "    .dataframe tbody tr th:only-of-type {\n",
       "        vertical-align: middle;\n",
       "    }\n",
       "\n",
       "    .dataframe tbody tr th {\n",
       "        vertical-align: top;\n",
       "    }\n",
       "\n",
       "    .dataframe thead th {\n",
       "        text-align: right;\n",
       "    }\n",
       "</style>\n",
       "<table border=\"1\" class=\"dataframe\">\n",
       "  <thead>\n",
       "    <tr style=\"text-align: right;\">\n",
       "      <th></th>\n",
       "      <th>full_name</th>\n",
       "      <th>selling_price</th>\n",
       "      <th>year</th>\n",
       "      <th>seller_type</th>\n",
       "      <th>km_driven</th>\n",
       "      <th>fuel_type</th>\n",
       "      <th>transmission_type</th>\n",
       "      <th>mileage</th>\n",
       "      <th>engine</th>\n",
       "      <th>max_power</th>\n",
       "      <th>seats</th>\n",
       "    </tr>\n",
       "  </thead>\n",
       "  <tbody>\n",
       "    <tr>\n",
       "      <th>0</th>\n",
       "      <td>Maruti SX4 Zxi BSIII</td>\n",
       "      <td>2.85</td>\n",
       "      <td>2007.0</td>\n",
       "      <td>Individual</td>\n",
       "      <td>110000</td>\n",
       "      <td>Petrol</td>\n",
       "      <td>Manual</td>\n",
       "      <td>15.00</td>\n",
       "      <td>1586.0</td>\n",
       "      <td>104.68</td>\n",
       "      <td>5.0</td>\n",
       "    </tr>\n",
       "    <tr>\n",
       "      <th>1</th>\n",
       "      <td>Hyundai i20 Sportz 1.4 CRDi</td>\n",
       "      <td>4.70</td>\n",
       "      <td>2012.0</td>\n",
       "      <td>Dealer</td>\n",
       "      <td>70000</td>\n",
       "      <td>Diesel</td>\n",
       "      <td>Manual</td>\n",
       "      <td>21.90</td>\n",
       "      <td>1396.0</td>\n",
       "      <td>88.76</td>\n",
       "      <td>5.0</td>\n",
       "    </tr>\n",
       "    <tr>\n",
       "      <th>2</th>\n",
       "      <td>Maruti Swift VDI BSIV</td>\n",
       "      <td>5.25</td>\n",
       "      <td>2015.0</td>\n",
       "      <td>Individual</td>\n",
       "      <td>70000</td>\n",
       "      <td>Diesel</td>\n",
       "      <td>Manual</td>\n",
       "      <td>25.20</td>\n",
       "      <td>1248.0</td>\n",
       "      <td>74.00</td>\n",
       "      <td>5.0</td>\n",
       "    </tr>\n",
       "    <tr>\n",
       "      <th>3</th>\n",
       "      <td>Honda City 1.3 EXI</td>\n",
       "      <td>1.25</td>\n",
       "      <td>2005.0</td>\n",
       "      <td>Individual</td>\n",
       "      <td>90000</td>\n",
       "      <td>Petrol</td>\n",
       "      <td>Manual</td>\n",
       "      <td>13.00</td>\n",
       "      <td>1343.0</td>\n",
       "      <td>90.00</td>\n",
       "      <td>5.0</td>\n",
       "    </tr>\n",
       "    <tr>\n",
       "      <th>4</th>\n",
       "      <td>Volkswagen Polo 1.2 MPI Comfortline</td>\n",
       "      <td>4.65</td>\n",
       "      <td>2015.0</td>\n",
       "      <td>Dealer</td>\n",
       "      <td>41000</td>\n",
       "      <td>Petrol</td>\n",
       "      <td>Manual</td>\n",
       "      <td>16.47</td>\n",
       "      <td>1198.0</td>\n",
       "      <td>74.00</td>\n",
       "      <td>5.0</td>\n",
       "    </tr>\n",
       "  </tbody>\n",
       "</table>\n",
       "</div>"
      ],
      "text/plain": [
       "                             full_name  selling_price    year seller_type  \\\n",
       "0                 Maruti SX4 Zxi BSIII           2.85  2007.0  Individual   \n",
       "1          Hyundai i20 Sportz 1.4 CRDi           4.70  2012.0      Dealer   \n",
       "2                Maruti Swift VDI BSIV           5.25  2015.0  Individual   \n",
       "3                   Honda City 1.3 EXI           1.25  2005.0  Individual   \n",
       "4  Volkswagen Polo 1.2 MPI Comfortline           4.65  2015.0      Dealer   \n",
       "\n",
       "   km_driven fuel_type transmission_type  mileage  engine  max_power  seats  \n",
       "0     110000    Petrol            Manual    15.00  1586.0     104.68    5.0  \n",
       "1      70000    Diesel            Manual    21.90  1396.0      88.76    5.0  \n",
       "2      70000    Diesel            Manual    25.20  1248.0      74.00    5.0  \n",
       "3      90000    Petrol            Manual    13.00  1343.0      90.00    5.0  \n",
       "4      41000    Petrol            Manual    16.47  1198.0      74.00    5.0  "
      ]
     },
     "execution_count": 2,
     "metadata": {},
     "output_type": "execute_result"
    }
   ],
   "source": [
    "df = pd.read_csv(\"train-cars24-car-price.csv\")\n",
    "df.head()"
   ]
  },
  {
   "cell_type": "markdown",
   "id": "bda3ad2e",
   "metadata": {
    "id": "bda3ad2e"
   },
   "source": [
    "Notice that Variable ```full_name``` contains both ```Maker``` and ```Model``` information - need to extract make and model from full_name."
   ]
  },
  {
   "cell_type": "code",
   "execution_count": 3,
   "id": "26aabe45",
   "metadata": {
    "colab": {
     "base_uri": "https://localhost:8080/"
    },
    "id": "26aabe45",
    "outputId": "6726b6fb-2c7d-4aa7-fb05-0f6077e98b97"
   },
   "outputs": [
    {
     "data": {
      "text/plain": [
       "(13986, 11)"
      ]
     },
     "execution_count": 3,
     "metadata": {},
     "output_type": "execute_result"
    }
   ],
   "source": [
    "df.shape"
   ]
  },
  {
   "cell_type": "code",
   "execution_count": 4,
   "id": "d2a5005b",
   "metadata": {
    "colab": {
     "base_uri": "https://localhost:8080/"
    },
    "id": "d2a5005b",
    "outputId": "8714a341-4aa9-4c28-a319-b8327d3560c8"
   },
   "outputs": [
    {
     "name": "stdout",
     "output_type": "stream",
     "text": [
      "<class 'pandas.core.frame.DataFrame'>\n",
      "RangeIndex: 13986 entries, 0 to 13985\n",
      "Data columns (total 11 columns):\n",
      " #   Column             Non-Null Count  Dtype  \n",
      "---  ------             --------------  -----  \n",
      " 0   full_name          13986 non-null  object \n",
      " 1   selling_price      13986 non-null  float64\n",
      " 2   year               13986 non-null  float64\n",
      " 3   seller_type        13986 non-null  object \n",
      " 4   km_driven          13986 non-null  int64  \n",
      " 5   fuel_type          13986 non-null  object \n",
      " 6   transmission_type  13986 non-null  object \n",
      " 7   mileage            13986 non-null  float64\n",
      " 8   engine             13986 non-null  float64\n",
      " 9   max_power          13986 non-null  float64\n",
      " 10  seats              13986 non-null  float64\n",
      "dtypes: float64(6), int64(1), object(4)\n",
      "memory usage: 1.2+ MB\n"
     ]
    }
   ],
   "source": [
    "df.info();"
   ]
  },
  {
   "cell_type": "code",
   "execution_count": 5,
   "id": "05f9b141",
   "metadata": {
    "colab": {
     "base_uri": "https://localhost:8080/",
     "height": 300
    },
    "id": "05f9b141",
    "outputId": "951948d8-b033-4d2a-a1e2-751d3d98cabc"
   },
   "outputs": [
    {
     "data": {
      "text/html": [
       "<div>\n",
       "<style scoped>\n",
       "    .dataframe tbody tr th:only-of-type {\n",
       "        vertical-align: middle;\n",
       "    }\n",
       "\n",
       "    .dataframe tbody tr th {\n",
       "        vertical-align: top;\n",
       "    }\n",
       "\n",
       "    .dataframe thead th {\n",
       "        text-align: right;\n",
       "    }\n",
       "</style>\n",
       "<table border=\"1\" class=\"dataframe\">\n",
       "  <thead>\n",
       "    <tr style=\"text-align: right;\">\n",
       "      <th></th>\n",
       "      <th>selling_price</th>\n",
       "      <th>year</th>\n",
       "      <th>km_driven</th>\n",
       "      <th>mileage</th>\n",
       "      <th>engine</th>\n",
       "      <th>max_power</th>\n",
       "      <th>seats</th>\n",
       "    </tr>\n",
       "  </thead>\n",
       "  <tbody>\n",
       "    <tr>\n",
       "      <th>count</th>\n",
       "      <td>13986.000000</td>\n",
       "      <td>13986.000000</td>\n",
       "      <td>1.398600e+04</td>\n",
       "      <td>13986.000000</td>\n",
       "      <td>13986.000000</td>\n",
       "      <td>13986.000000</td>\n",
       "      <td>13986.000000</td>\n",
       "    </tr>\n",
       "    <tr>\n",
       "      <th>mean</th>\n",
       "      <td>7.377749</td>\n",
       "      <td>2014.516088</td>\n",
       "      <td>5.797629e+04</td>\n",
       "      <td>19.356221</td>\n",
       "      <td>1473.574905</td>\n",
       "      <td>97.685631</td>\n",
       "      <td>5.313242</td>\n",
       "    </tr>\n",
       "    <tr>\n",
       "      <th>std</th>\n",
       "      <td>9.368596</td>\n",
       "      <td>3.256795</td>\n",
       "      <td>5.378180e+04</td>\n",
       "      <td>4.638576</td>\n",
       "      <td>518.289204</td>\n",
       "      <td>45.067944</td>\n",
       "      <td>0.831653</td>\n",
       "    </tr>\n",
       "    <tr>\n",
       "      <th>min</th>\n",
       "      <td>0.325000</td>\n",
       "      <td>1991.000000</td>\n",
       "      <td>1.000000e+02</td>\n",
       "      <td>0.000000</td>\n",
       "      <td>0.000000</td>\n",
       "      <td>5.000000</td>\n",
       "      <td>2.000000</td>\n",
       "    </tr>\n",
       "    <tr>\n",
       "      <th>25%</th>\n",
       "      <td>3.400000</td>\n",
       "      <td>2013.000000</td>\n",
       "      <td>3.100000e+04</td>\n",
       "      <td>16.840000</td>\n",
       "      <td>1197.000000</td>\n",
       "      <td>73.900000</td>\n",
       "      <td>5.000000</td>\n",
       "    </tr>\n",
       "    <tr>\n",
       "      <th>50%</th>\n",
       "      <td>5.100000</td>\n",
       "      <td>2015.000000</td>\n",
       "      <td>5.120000e+04</td>\n",
       "      <td>19.160000</td>\n",
       "      <td>1248.000000</td>\n",
       "      <td>86.700000</td>\n",
       "      <td>5.000000</td>\n",
       "    </tr>\n",
       "    <tr>\n",
       "      <th>75%</th>\n",
       "      <td>7.800000</td>\n",
       "      <td>2017.000000</td>\n",
       "      <td>7.397800e+04</td>\n",
       "      <td>22.320000</td>\n",
       "      <td>1582.000000</td>\n",
       "      <td>112.000000</td>\n",
       "      <td>5.000000</td>\n",
       "    </tr>\n",
       "    <tr>\n",
       "      <th>max</th>\n",
       "      <td>395.000000</td>\n",
       "      <td>2021.000000</td>\n",
       "      <td>3.800000e+06</td>\n",
       "      <td>120.000000</td>\n",
       "      <td>6752.000000</td>\n",
       "      <td>626.000000</td>\n",
       "      <td>14.000000</td>\n",
       "    </tr>\n",
       "  </tbody>\n",
       "</table>\n",
       "</div>"
      ],
      "text/plain": [
       "       selling_price          year     km_driven       mileage        engine  \\\n",
       "count   13986.000000  13986.000000  1.398600e+04  13986.000000  13986.000000   \n",
       "mean        7.377749   2014.516088  5.797629e+04     19.356221   1473.574905   \n",
       "std         9.368596      3.256795  5.378180e+04      4.638576    518.289204   \n",
       "min         0.325000   1991.000000  1.000000e+02      0.000000      0.000000   \n",
       "25%         3.400000   2013.000000  3.100000e+04     16.840000   1197.000000   \n",
       "50%         5.100000   2015.000000  5.120000e+04     19.160000   1248.000000   \n",
       "75%         7.800000   2017.000000  7.397800e+04     22.320000   1582.000000   \n",
       "max       395.000000   2021.000000  3.800000e+06    120.000000   6752.000000   \n",
       "\n",
       "          max_power         seats  \n",
       "count  13986.000000  13986.000000  \n",
       "mean      97.685631      5.313242  \n",
       "std       45.067944      0.831653  \n",
       "min        5.000000      2.000000  \n",
       "25%       73.900000      5.000000  \n",
       "50%       86.700000      5.000000  \n",
       "75%      112.000000      5.000000  \n",
       "max      626.000000     14.000000  "
      ]
     },
     "metadata": {},
     "output_type": "display_data"
    }
   ],
   "source": [
    "display(df.describe())"
   ]
  },
  {
   "cell_type": "markdown",
   "id": "08698399",
   "metadata": {
    "id": "08698399"
   },
   "source": [
    "- `selling_price` ranges from [0.33, 395] - the values seem to be in lakhs.\n",
    "- `mileage` min is 0, max is 120 - need to check for outliers.\n",
    "- `engine` min is 0, max is 6752 - values appear to be in \"cc\" - need to check for outliers."
   ]
  },
  {
   "cell_type": "markdown",
   "id": "c39186af",
   "metadata": {
    "id": "c39186af"
   },
   "source": [
    "### Distributions\n",
    "\n",
    "Lets check the distributions of these features one by one"
   ]
  },
  {
   "cell_type": "code",
   "execution_count": 6,
   "id": "c445a4cd",
   "metadata": {
    "colab": {
     "base_uri": "https://localhost:8080/",
     "height": 283
    },
    "id": "c445a4cd",
    "outputId": "f1868d18-e72c-4b6f-f98e-a9244042fbd3"
   },
   "outputs": [
    {
     "data": {
      "text/plain": [
       "<AxesSubplot:>"
      ]
     },
     "execution_count": 6,
     "metadata": {},
     "output_type": "execute_result"
    },
    {
     "data": {
      "image/png": "[encoded data removed]",
      "text/plain": [
       "<Figure size 432x288 with 1 Axes>"
      ]
     },
     "metadata": {
      "needs_background": "light"
     },
     "output_type": "display_data"
    }
   ],
   "source": [
    "df['selling_price'].hist(bins=50)"
   ]
  },
  {
   "cell_type": "markdown",
   "id": "qkdPAVufNJYT",
   "metadata": {
    "id": "qkdPAVufNJYT"
   },
   "source": [
    "Lets check the percntage of outliers. We are manually taking a call that price over a 100 (K) is an outlier by looking at the above plot"
   ]
  },
  {
   "cell_type": "code",
   "execution_count": 7,
   "id": "1cf0fc36",
   "metadata": {
    "colab": {
     "base_uri": "https://localhost:8080/"
    },
    "id": "1cf0fc36",
    "outputId": "1032819d-213d-4864-acee-2145da109119"
   },
   "outputs": [
    {
     "data": {
      "text/plain": [
       "0.06435006435006435"
      ]
     },
     "execution_count": 7,
     "metadata": {},
     "output_type": "execute_result"
    }
   ],
   "source": [
    "(df.loc[df.selling_price > 100].shape[0] / df.shape[0]) * 100"
   ]
  },
  {
   "cell_type": "markdown",
   "id": "8ZKF4jk4Qb-6",
   "metadata": {
    "id": "8ZKF4jk4Qb-6"
   },
   "source": [
    "Lets saturate selling price at **100**. "
   ]
  },
  {
   "cell_type": "code",
   "execution_count": 8,
   "id": "ac0e1922",
   "metadata": {
    "id": "ac0e1922"
   },
   "outputs": [],
   "source": [
    "df.loc[df.selling_price > 100, 'selling_price'] = 100"
   ]
  },
  {
   "cell_type": "markdown",
   "id": "559facec",
   "metadata": {
    "id": "559facec"
   },
   "source": [
    "> -  Can you think of an automated way of deciding this threshold 100 ? Seems like we made this decision arbitarily\n",
    "> - **Hint:** use quantiles"
   ]
  },
  {
   "cell_type": "markdown",
   "id": "50848eac",
   "metadata": {
    "id": "50848eac"
   },
   "source": [
    "### Outliers and Missing Values\n",
    "\n",
    "#### Q: Which plot(s) is/are suitable for outlier visualisation ?"
   ]
  },
  {
   "cell_type": "markdown",
   "id": "Q2HkA8q-Q5Nv",
   "metadata": {
    "id": "Q2HkA8q-Q5Nv"
   },
   "source": [
    "Similarly lets plot a histogram for **mileage**"
   ]
  },
  {
   "cell_type": "code",
   "execution_count": 9,
   "id": "9137b73d",
   "metadata": {
    "colab": {
     "base_uri": "https://localhost:8080/",
     "height": 265
    },
    "id": "9137b73d",
    "outputId": "1b844e2c-5922-4976-e237-60ada0cd8a9f"
   },
   "outputs": [
    {
     "data": {
      "image/png": "[encoded data removed]",
      "text/plain": [
       "<Figure size 432x288 with 1 Axes>"
      ]
     },
     "metadata": {
      "needs_background": "light"
     },
     "output_type": "display_data"
    }
   ],
   "source": [
    "df[\"mileage\"].hist(bins=50);"
   ]
  },
  {
   "cell_type": "markdown",
   "id": "2HyHfnFeRAmL",
   "metadata": {
    "id": "2HyHfnFeRAmL"
   },
   "source": [
    "Another useful plot is called the 'density' plot. Which is also similar to histogram, but with a more *approximate* shape. It tries to fit a suitable distribution over the histogram and hence includes points that might not even be present in data at hand."
   ]
  },
  {
   "cell_type": "code",
   "execution_count": 10,
   "id": "1c0f8ef6",
   "metadata": {
    "colab": {
     "base_uri": "https://localhost:8080/",
     "height": 265
    },
    "id": "1c0f8ef6",
    "outputId": "e258b057-733c-4be4-e08e-fb66db9956f3"
   },
   "outputs": [
    {
     "data": {
      "image/png": "[encoded data removed]",
      "text/plain": [
       "<Figure size 432x288 with 1 Axes>"
      ]
     },
     "metadata": {
      "needs_background": "light"
     },
     "output_type": "display_data"
    }
   ],
   "source": [
    "df[\"mileage\"].plot.density();"
   ]
  },
  {
   "cell_type": "markdown",
   "id": "9a201e12",
   "metadata": {
    "id": "9a201e12"
   },
   "source": [
    "We observe a skewed plot with right tail to long. An interesting point here would be mileage > 40, because after that it looks like the values mught just be outliers."
   ]
  },
  {
   "cell_type": "markdown",
   "id": "ZMc_3ljfRdab",
   "metadata": {
    "id": "ZMc_3ljfRdab"
   },
   "source": [
    "Above we saw that there was an unusual peak at **0**. Lets investigate further. Looking at points where mileage is less than 5 "
   ]
  },
  {
   "cell_type": "code",
   "execution_count": 11,
   "id": "8770175b",
   "metadata": {
    "colab": {
     "base_uri": "https://localhost:8080/"
    },
    "id": "8770175b",
    "outputId": "4e23ad77-aff6-41ac-ef02-8bdfd95ee4bc"
   },
   "outputs": [
    {
     "data": {
      "text/plain": [
       "count    119.000000\n",
       "mean       0.033613\n",
       "std        0.366679\n",
       "min        0.000000\n",
       "25%        0.000000\n",
       "50%        0.000000\n",
       "75%        0.000000\n",
       "max        4.000000\n",
       "Name: mileage, dtype: float64"
      ]
     },
     "execution_count": 11,
     "metadata": {},
     "output_type": "execute_result"
    }
   ],
   "source": [
    "df[df[\"mileage\"]<=5].mileage.describe()"
   ]
  },
  {
   "cell_type": "markdown",
   "id": "ORwiWooXRter",
   "metadata": {
    "id": "ORwiWooXRter"
   },
   "source": [
    "Looks like we just have a number of points with mileage 0. That does not make much sense as it cannot be a real value for car mileage. Investigating mileage=0 cases"
   ]
  },
  {
   "cell_type": "code",
   "execution_count": 12,
   "id": "cebf24d5",
   "metadata": {
    "colab": {
     "base_uri": "https://localhost:8080/"
    },
    "id": "cebf24d5",
    "outputId": "6e9ebeef-c748-4d7e-c0d4-0afa07c48a86"
   },
   "outputs": [
    {
     "data": {
      "text/plain": [
       "0.008437008437008437"
      ]
     },
     "execution_count": 12,
     "metadata": {},
     "output_type": "execute_result"
    }
   ],
   "source": [
    "df.loc[df.mileage == 0].shape[0] / df.shape[0] # 0.8 %"
   ]
  },
  {
   "cell_type": "code",
   "execution_count": 13,
   "id": "95a9d68a",
   "metadata": {
    "colab": {
     "base_uri": "https://localhost:8080/"
    },
    "id": "95a9d68a",
    "outputId": "991a8027-d949-407e-f0b0-8d93a3fb0076"
   },
   "outputs": [
    {
     "data": {
      "text/plain": [
       "(118, 11)"
      ]
     },
     "execution_count": 13,
     "metadata": {},
     "output_type": "execute_result"
    }
   ],
   "source": [
    "df[df[\"mileage\"] == 0.0].shape"
   ]
  },
  {
   "cell_type": "markdown",
   "id": "00697c6e",
   "metadata": {
    "id": "00697c6e"
   },
   "source": [
    "Thats a very small number of points. We can safely impute, or drop these points later during pre-processing\n",
    "\n",
    "#### Are the top values errorneous?"
   ]
  },
  {
   "cell_type": "markdown",
   "id": "6_LyBPdUSOhB",
   "metadata": {
    "id": "6_LyBPdUSOhB"
   },
   "source": [
    "Above we had also noticed that there was a significant point at mileage=40. After this there were only very few points and looked like outliers. Lets check them"
   ]
  },
  {
   "cell_type": "code",
   "execution_count": 14,
   "id": "086687cf",
   "metadata": {
    "colab": {
     "base_uri": "https://localhost:8080/"
    },
    "id": "086687cf",
    "outputId": "8bd0acba-4644-48c2-f53f-43d4f0a10489"
   },
   "outputs": [
    {
     "data": {
      "text/plain": [
       "count      3.000000\n",
       "mean     116.666667\n",
       "std        5.773503\n",
       "min      110.000000\n",
       "25%      115.000000\n",
       "50%      120.000000\n",
       "75%      120.000000\n",
       "max      120.000000\n",
       "Name: mileage, dtype: float64"
      ]
     },
     "execution_count": 14,
     "metadata": {},
     "output_type": "execute_result"
    }
   ],
   "source": [
    "df[df[\"mileage\"] > 40].mileage.describe()"
   ]
  },
  {
   "cell_type": "code",
   "execution_count": 15,
   "id": "2fb01f54",
   "metadata": {
    "colab": {
     "base_uri": "https://localhost:8080/",
     "height": 277
    },
    "id": "2fb01f54",
    "outputId": "117e76ed-46ed-448b-ccc5-09af90ae109a"
   },
   "outputs": [
    {
     "data": {
      "text/html": [
       "<div>\n",
       "<style scoped>\n",
       "    .dataframe tbody tr th:only-of-type {\n",
       "        vertical-align: middle;\n",
       "    }\n",
       "\n",
       "    .dataframe tbody tr th {\n",
       "        vertical-align: top;\n",
       "    }\n",
       "\n",
       "    .dataframe thead th {\n",
       "        text-align: right;\n",
       "    }\n",
       "</style>\n",
       "<table border=\"1\" class=\"dataframe\">\n",
       "  <thead>\n",
       "    <tr style=\"text-align: right;\">\n",
       "      <th></th>\n",
       "      <th>full_name</th>\n",
       "      <th>selling_price</th>\n",
       "      <th>year</th>\n",
       "      <th>seller_type</th>\n",
       "      <th>km_driven</th>\n",
       "      <th>fuel_type</th>\n",
       "      <th>transmission_type</th>\n",
       "      <th>mileage</th>\n",
       "      <th>engine</th>\n",
       "      <th>max_power</th>\n",
       "      <th>seats</th>\n",
       "    </tr>\n",
       "  </thead>\n",
       "  <tbody>\n",
       "    <tr>\n",
       "      <th>4291</th>\n",
       "      <td>Mahindra e2o Premium</td>\n",
       "      <td>3.25</td>\n",
       "      <td>2013.0</td>\n",
       "      <td>Individual</td>\n",
       "      <td>50000</td>\n",
       "      <td>Electric</td>\n",
       "      <td>Automatic</td>\n",
       "      <td>120.0</td>\n",
       "      <td>0.000000</td>\n",
       "      <td>25.5</td>\n",
       "      <td>5.0</td>\n",
       "    </tr>\n",
       "    <tr>\n",
       "      <th>4751</th>\n",
       "      <td>Mahindra e2o T2</td>\n",
       "      <td>3.60</td>\n",
       "      <td>2015.0</td>\n",
       "      <td>Dealer</td>\n",
       "      <td>42862</td>\n",
       "      <td>Electric</td>\n",
       "      <td>Automatic</td>\n",
       "      <td>120.0</td>\n",
       "      <td>0.000000</td>\n",
       "      <td>25.5</td>\n",
       "      <td>5.0</td>\n",
       "    </tr>\n",
       "    <tr>\n",
       "      <th>4894</th>\n",
       "      <td>Mahindra e2oPlus P6</td>\n",
       "      <td>4.00</td>\n",
       "      <td>2018.0</td>\n",
       "      <td>Dealer</td>\n",
       "      <td>26000</td>\n",
       "      <td>Electric</td>\n",
       "      <td>Automatic</td>\n",
       "      <td>110.0</td>\n",
       "      <td>1476.327401</td>\n",
       "      <td>25.4</td>\n",
       "      <td>4.0</td>\n",
       "    </tr>\n",
       "  </tbody>\n",
       "</table>\n",
       "</div>"
      ],
      "text/plain": [
       "                 full_name  selling_price    year seller_type  km_driven  \\\n",
       "4291  Mahindra e2o Premium           3.25  2013.0  Individual      50000   \n",
       "4751       Mahindra e2o T2           3.60  2015.0      Dealer      42862   \n",
       "4894   Mahindra e2oPlus P6           4.00  2018.0      Dealer      26000   \n",
       "\n",
       "     fuel_type transmission_type  mileage       engine  max_power  seats  \n",
       "4291  Electric         Automatic    120.0     0.000000       25.5    5.0  \n",
       "4751  Electric         Automatic    120.0     0.000000       25.5    5.0  \n",
       "4894  Electric         Automatic    110.0  1476.327401       25.4    4.0  "
      ]
     },
     "execution_count": 15,
     "metadata": {},
     "output_type": "execute_result"
    }
   ],
   "source": [
    "df[df[\"mileage\"] > 40]"
   ]
  },
  {
   "cell_type": "code",
   "execution_count": 16,
   "id": "ebdd8056",
   "metadata": {
    "colab": {
     "base_uri": "https://localhost:8080/"
    },
    "id": "ebdd8056",
    "outputId": "727d9126-aed4-467a-f793-49ffd79733e2"
   },
   "outputs": [
    {
     "data": {
      "text/plain": [
       "Electric    3\n",
       "Name: fuel_type, dtype: int64"
      ]
     },
     "execution_count": 16,
     "metadata": {},
     "output_type": "execute_result"
    }
   ],
   "source": [
    "df[df[\"mileage\"] > 40].fuel_type.value_counts()"
   ]
  },
  {
   "cell_type": "markdown",
   "id": "30d350ad",
   "metadata": {
    "id": "30d350ad"
   },
   "source": [
    "- So all vehicles with mileage > 40 are electric vehicles which makes sense. \n",
    "- So they are not incorrect (error) values. \n",
    "- Let us not remove these points for now"
   ]
  },
  {
   "cell_type": "markdown",
   "id": "898bd0a0",
   "metadata": {
    "id": "898bd0a0"
   },
   "source": [
    "### Correlations"
   ]
  },
  {
   "cell_type": "markdown",
   "id": "pp_p6cp0SgaO",
   "metadata": {
    "id": "pp_p6cp0SgaO"
   },
   "source": [
    "Now lets look at the correlations of numerical features with each other"
   ]
  },
  {
   "cell_type": "code",
   "execution_count": 17,
   "id": "e1f3bfe0",
   "metadata": {
    "colab": {
     "base_uri": "https://localhost:8080/",
     "height": 488
    },
    "id": "e1f3bfe0",
    "outputId": "bc00fb08-d3b7-4b40-83d6-b7caa9761c9a"
   },
   "outputs": [
    {
     "data": {
      "image/png": "[encoded data removed]",
      "text/plain": [
       "<Figure size 720x576 with 2 Axes>"
      ]
     },
     "metadata": {
      "needs_background": "light"
     },
     "output_type": "display_data"
    }
   ],
   "source": [
    "plt.figure(figsize=(10,8))\n",
    "ax = sns.heatmap(df.corr(), cmap=\"YlGnBu\", annot=True)"
   ]
  },
  {
   "cell_type": "markdown",
   "id": "gv2UD2K_Sq62",
   "metadata": {
    "id": "gv2UD2K_Sq62"
   },
   "source": [
    "We see the following correlations:\n",
    "- Engine and max-power\n",
    "- Max power and selling price\n",
    "Now based on our **domain knowledge** (about cars) we can digest these correlations. In this case, these correlations seem to make a lot of sense\n",
    "\n",
    "\n",
    "Another visualisation we can check, is the scatter plot of each feature with the target. This can be easily done using pairplot from seaborn library"
   ]
  },
  {
   "cell_type": "code",
   "execution_count": 18,
   "id": "cdd13238",
   "metadata": {
    "colab": {
     "base_uri": "https://localhost:8080/",
     "height": 165
    },
    "id": "cdd13238",
    "outputId": "e0058839-2950-47a1-f725-f4e165128232"
   },
   "outputs": [
    {
     "data": {
      "image/png": "[encoded data removed]",
      "text/plain": [
       "<Figure size 1260x180 with 8 Axes>"
      ]
     },
     "metadata": {
      "needs_background": "light"
     },
     "output_type": "display_data"
    }
   ],
   "source": [
    "sns.pairplot(df, y_vars=[\"selling_price\"]);"
   ]
  },
  {
   "cell_type": "code",
   "execution_count": 19,
   "id": "51924620",
   "metadata": {
    "colab": {
     "base_uri": "https://localhost:8080/"
    },
    "id": "51924620",
    "outputId": "f8109d2f-4b05-498f-d00b-dc8e7e2fb1d2"
   },
   "outputs": [
    {
     "data": {
      "text/plain": [
       "5.0     0.837123\n",
       "7.0     0.115902\n",
       "8.0     0.022237\n",
       "4.0     0.011440\n",
       "6.0     0.007293\n",
       "9.0     0.003432\n",
       "10.0    0.001502\n",
       "2.0     0.001001\n",
       "14.0    0.000072\n",
       "Name: seats, dtype: float64"
      ]
     },
     "execution_count": 19,
     "metadata": {},
     "output_type": "execute_result"
    }
   ],
   "source": [
    "df['seats'].value_counts(normalize=True)"
   ]
  },
  {
   "cell_type": "markdown",
   "id": "57297951",
   "metadata": {
    "id": "57297951"
   },
   "source": [
    "### Categorical Variables"
   ]
  },
  {
   "cell_type": "markdown",
   "id": "f32cbc66",
   "metadata": {
    "id": "f32cbc66"
   },
   "source": [
    "#### How can we extract Make and Model from \"full_name\""
   ]
  },
  {
   "cell_type": "markdown",
   "id": "7GuygB63TXOB",
   "metadata": {
    "id": "7GuygB63TXOB"
   },
   "source": [
    "We have noticed that the name contains the informaiton of the brand and the model. Lets extract those and create new features from them. After that we can drop the original column"
   ]
  },
  {
   "cell_type": "code",
   "execution_count": 20,
   "id": "0f048cc1",
   "metadata": {
    "colab": {
     "base_uri": "https://localhost:8080/",
     "height": 263
    },
    "id": "0f048cc1",
    "outputId": "2054b8c5-1303-4d79-f9e3-d5098a925fe1"
   },
   "outputs": [
    {
     "data": {
      "text/html": [
       "<div>\n",
       "<style scoped>\n",
       "    .dataframe tbody tr th:only-of-type {\n",
       "        vertical-align: middle;\n",
       "    }\n",
       "\n",
       "    .dataframe tbody tr th {\n",
       "        vertical-align: top;\n",
       "    }\n",
       "\n",
       "    .dataframe thead th {\n",
       "        text-align: right;\n",
       "    }\n",
       "</style>\n",
       "<table border=\"1\" class=\"dataframe\">\n",
       "  <thead>\n",
       "    <tr style=\"text-align: right;\">\n",
       "      <th></th>\n",
       "      <th>selling_price</th>\n",
       "      <th>year</th>\n",
       "      <th>seller_type</th>\n",
       "      <th>km_driven</th>\n",
       "      <th>fuel_type</th>\n",
       "      <th>transmission_type</th>\n",
       "      <th>mileage</th>\n",
       "      <th>engine</th>\n",
       "      <th>max_power</th>\n",
       "      <th>seats</th>\n",
       "      <th>make</th>\n",
       "      <th>model</th>\n",
       "    </tr>\n",
       "  </thead>\n",
       "  <tbody>\n",
       "    <tr>\n",
       "      <th>0</th>\n",
       "      <td>2.85</td>\n",
       "      <td>2007.0</td>\n",
       "      <td>Individual</td>\n",
       "      <td>110000</td>\n",
       "      <td>Petrol</td>\n",
       "      <td>Manual</td>\n",
       "      <td>15.0</td>\n",
       "      <td>1586.0</td>\n",
       "      <td>104.68</td>\n",
       "      <td>5.0</td>\n",
       "      <td>Maruti</td>\n",
       "      <td>SX4 Zxi BSIII</td>\n",
       "    </tr>\n",
       "    <tr>\n",
       "      <th>1</th>\n",
       "      <td>4.70</td>\n",
       "      <td>2012.0</td>\n",
       "      <td>Dealer</td>\n",
       "      <td>70000</td>\n",
       "      <td>Diesel</td>\n",
       "      <td>Manual</td>\n",
       "      <td>21.9</td>\n",
       "      <td>1396.0</td>\n",
       "      <td>88.76</td>\n",
       "      <td>5.0</td>\n",
       "      <td>Hyundai</td>\n",
       "      <td>i20 Sportz 1.4 CRDi</td>\n",
       "    </tr>\n",
       "  </tbody>\n",
       "</table>\n",
       "</div>"
      ],
      "text/plain": [
       "   selling_price    year seller_type  km_driven fuel_type transmission_type  \\\n",
       "0           2.85  2007.0  Individual     110000    Petrol            Manual   \n",
       "1           4.70  2012.0      Dealer      70000    Diesel            Manual   \n",
       "\n",
       "   mileage  engine  max_power  seats     make                model  \n",
       "0     15.0  1586.0     104.68    5.0   Maruti        SX4 Zxi BSIII  \n",
       "1     21.9  1396.0      88.76    5.0  Hyundai  i20 Sportz 1.4 CRDi  "
      ]
     },
     "execution_count": 20,
     "metadata": {},
     "output_type": "execute_result"
    }
   ],
   "source": [
    "df[\"make\"] = df.full_name.apply(lambda x : x.split()[0])\n",
    "df[\"model\"] = df.full_name.apply(lambda x : \" \".join(x.split()[1:]))\n",
    "df = df.drop(\"full_name\", axis=1)\n",
    "df.head(2)"
   ]
  },
  {
   "cell_type": "markdown",
   "id": "9P5Z8JSgTrP8",
   "metadata": {
    "id": "9P5Z8JSgTrP8"
   },
   "source": [
    "Now let us look at some categorical variables one by one"
   ]
  },
  {
   "cell_type": "code",
   "execution_count": 21,
   "id": "4b958059",
   "metadata": {
    "colab": {
     "base_uri": "https://localhost:8080/",
     "height": 175
    },
    "id": "4b958059",
    "outputId": "15041866-031f-4316-ed50-811ceef9fb82"
   },
   "outputs": [
    {
     "data": {
      "text/html": [
       "<div>\n",
       "<style scoped>\n",
       "    .dataframe tbody tr th:only-of-type {\n",
       "        vertical-align: middle;\n",
       "    }\n",
       "\n",
       "    .dataframe tbody tr th {\n",
       "        vertical-align: top;\n",
       "    }\n",
       "\n",
       "    .dataframe thead th {\n",
       "        text-align: right;\n",
       "    }\n",
       "</style>\n",
       "<table border=\"1\" class=\"dataframe\">\n",
       "  <thead>\n",
       "    <tr style=\"text-align: right;\">\n",
       "      <th></th>\n",
       "      <th>seller_type</th>\n",
       "      <th>fuel_type</th>\n",
       "      <th>transmission_type</th>\n",
       "      <th>make</th>\n",
       "      <th>model</th>\n",
       "    </tr>\n",
       "  </thead>\n",
       "  <tbody>\n",
       "    <tr>\n",
       "      <th>count</th>\n",
       "      <td>13986</td>\n",
       "      <td>13986</td>\n",
       "      <td>13986</td>\n",
       "      <td>13986</td>\n",
       "      <td>13986</td>\n",
       "    </tr>\n",
       "    <tr>\n",
       "      <th>unique</th>\n",
       "      <td>3</td>\n",
       "      <td>5</td>\n",
       "      <td>2</td>\n",
       "      <td>41</td>\n",
       "      <td>2923</td>\n",
       "    </tr>\n",
       "    <tr>\n",
       "      <th>top</th>\n",
       "      <td>Dealer</td>\n",
       "      <td>Petrol</td>\n",
       "      <td>Manual</td>\n",
       "      <td>Maruti</td>\n",
       "      <td>Alto 800 LXI</td>\n",
       "    </tr>\n",
       "    <tr>\n",
       "      <th>freq</th>\n",
       "      <td>8393</td>\n",
       "      <td>6870</td>\n",
       "      <td>11251</td>\n",
       "      <td>3979</td>\n",
       "      <td>143</td>\n",
       "    </tr>\n",
       "  </tbody>\n",
       "</table>\n",
       "</div>"
      ],
      "text/plain": [
       "       seller_type fuel_type transmission_type    make         model\n",
       "count        13986     13986             13986   13986         13986\n",
       "unique           3         5                 2      41          2923\n",
       "top         Dealer    Petrol            Manual  Maruti  Alto 800 LXI\n",
       "freq          8393      6870             11251    3979           143"
      ]
     },
     "metadata": {},
     "output_type": "display_data"
    }
   ],
   "source": [
    "display(df.describe(include=\"object\"))"
   ]
  },
  {
   "cell_type": "code",
   "execution_count": 23,
   "id": "uRpTtxKyT6Zo",
   "metadata": {
    "colab": {
     "base_uri": "https://localhost:8080/"
    },
    "id": "uRpTtxKyT6Zo",
    "outputId": "d1315060-3e31-4f40-8a9b-009727f09f2b"
   },
   "outputs": [
    {
     "data": {
      "text/plain": [
       "Petrol      6870\n",
       "Diesel      6823\n",
       "CNG          233\n",
       "LPG           49\n",
       "Electric      11\n",
       "Name: fuel_type, dtype: int64"
      ]
     },
     "execution_count": 23,
     "metadata": {},
     "output_type": "execute_result"
    }
   ],
   "source": [
    "df[\"fuel_type\"].value_counts()"
   ]
  },
  {
   "cell_type": "code",
   "execution_count": 25,
   "id": "esoTkRa2T5ze",
   "metadata": {
    "colab": {
     "base_uri": "https://localhost:8080/"
    },
    "id": "esoTkRa2T5ze",
    "outputId": "ba709502-8514-4a09-b5a8-08ed76224a55"
   },
   "outputs": [
    {
     "data": {
      "text/plain": [
       "Manual       11251\n",
       "Automatic     2735\n",
       "Name: transmission_type, dtype: int64"
      ]
     },
     "execution_count": 25,
     "metadata": {},
     "output_type": "execute_result"
    }
   ],
   "source": [
    "df[\"transmission_type\"].value_counts()"
   ]
  },
  {
   "cell_type": "code",
   "execution_count": 26,
   "id": "2e62c375",
   "metadata": {
    "colab": {
     "base_uri": "https://localhost:8080/"
    },
    "id": "2e62c375",
    "outputId": "d658f45a-3545-474f-ee6e-ee2ca668ff9c"
   },
   "outputs": [
    {
     "data": {
      "text/plain": [
       "Dealer              8393\n",
       "Individual          5450\n",
       "Trustmark Dealer     143\n",
       "Name: seller_type, dtype: int64"
      ]
     },
     "execution_count": 26,
     "metadata": {},
     "output_type": "execute_result"
    }
   ],
   "source": [
    "df[\"seller_type\"].value_counts()"
   ]
  },
  {
   "cell_type": "markdown",
   "id": "b0a038df",
   "metadata": {
    "id": "b0a038df"
   },
   "source": [
    "#### Does selling price vary in some of these groups"
   ]
  },
  {
   "cell_type": "code",
   "execution_count": 27,
   "id": "ad5ad59a",
   "metadata": {
    "colab": {
     "base_uri": "https://localhost:8080/",
     "height": 265
    },
    "id": "ad5ad59a",
    "outputId": "7fe9d71f-aa29-418c-c4af-61ce9d325182"
   },
   "outputs": [
    {
     "data": {
      "image/png": "[encoded data removed]",
      "text/plain": [
       "<Figure size 432x288 with 1 Axes>"
      ]
     },
     "metadata": {
      "needs_background": "light"
     },
     "output_type": "display_data"
    }
   ],
   "source": [
    "df.loc[df.selling_price<=df.selling_price.quantile(0.9)].groupby('seller_type')['selling_price'].plot.density();\n",
    "plt.legend();"
   ]
  },
  {
   "cell_type": "markdown",
   "id": "CCPK7tdzUICh",
   "metadata": {
    "id": "CCPK7tdzUICh"
   },
   "source": [
    "Looks like for different seller type, the selling price distrubution is not very different. Hence one intuition that can be developed from this plot is that the **seller_type** variable will not turn out to be very important for the ML model. (We will check this later)"
   ]
  },
  {
   "cell_type": "markdown",
   "id": "4ab2bd2c",
   "metadata": {
    "id": "4ab2bd2c"
   },
   "source": [
    "#### Lets check for all groups?\n",
    "\n",
    "Another way to visualise the same is to use a plot known as **box-plot**\n",
    "\n",
    "\n",
    "Note: Although, `seats` is numeric, but we will consider it as an ordinal variable and perform similar analysis as we do for other categorical variables."
   ]
  },
  {
   "cell_type": "code",
   "execution_count": 28,
   "id": "a068256c",
   "metadata": {
    "colab": {
     "base_uri": "https://localhost:8080/",
     "height": 1000
    },
    "id": "a068256c",
    "outputId": "5a4d1266-e964-4c58-9599-1ae429f987ff"
   },
   "outputs": [
    {
     "data": {
      "image/png": "[encoded data removed]",
      "text/plain": [
       "<Figure size 720x360 with 1 Axes>"
      ]
     },
     "metadata": {
      "needs_background": "light"
     },
     "output_type": "display_data"
    },
    {
     "data": {
      "image/png": "[encoded data removed]",
      "text/plain": [
       "<Figure size 720x360 with 1 Axes>"
      ]
     },
     "metadata": {
      "needs_background": "light"
     },
     "output_type": "display_data"
    },
    {
     "data": {
      "image/png": "[encoded data removed]",
      "text/plain": [
       "<Figure size 720x360 with 1 Axes>"
      ]
     },
     "metadata": {
      "needs_background": "light"
     },
     "output_type": "display_data"
    }
   ],
   "source": [
    "for col in ['seller_type', 'fuel_type', 'seats']:\n",
    "    plt.figure(figsize=(10,5))\n",
    "    sns.boxplot(y='selling_price',x=col, data=df)\n",
    "    plt.title('col vs selling_price')\n",
    "    plt.show()"
   ]
  },
  {
   "cell_type": "markdown",
   "id": "e080af97",
   "metadata": {
    "id": "e080af97"
   },
   "source": [
    "#### How can we transform the scale of selling-price for better visualisation?"
   ]
  },
  {
   "cell_type": "code",
   "execution_count": 29,
   "id": "39d500fc",
   "metadata": {
    "colab": {
     "base_uri": "https://localhost:8080/",
     "height": 1000
    },
    "id": "39d500fc",
    "outputId": "62890310-d8db-418a-f999-e1af07ceb744"
   },
   "outputs": [
    {
     "data": {
      "image/png": "[encoded data removed]",
      "text/plain": [
       "<Figure size 720x360 with 1 Axes>"
      ]
     },
     "metadata": {
      "needs_background": "light"
     },
     "output_type": "display_data"
    },
    {
     "data": {
      "image/png": "[encoded data removed]",
      "text/plain": [
       "<Figure size 720x360 with 1 Axes>"
      ]
     },
     "metadata": {
      "needs_background": "light"
     },
     "output_type": "display_data"
    },
    {
     "data": {
      "image/png": "[encoded data removed]",
      "text/plain": [
       "<Figure size 720x360 with 1 Axes>"
      ]
     },
     "metadata": {
      "needs_background": "light"
     },
     "output_type": "display_data"
    }
   ],
   "source": [
    "df[\"log_selling_price\"] = np.log(df[\"selling_price\"].values)\n",
    " \n",
    "for col in ['seller_type', 'fuel_type', 'seats']:\n",
    "    plt.figure(figsize=(10,5))\n",
    "    sns.boxplot(y='log_selling_price',x=col, data=df)\n",
    "    plt.title('col vs selling_price')\n",
    "    plt.show()"
   ]
  },
  {
   "cell_type": "markdown",
   "id": "938ff054",
   "metadata": {
    "id": "938ff054"
   },
   "source": [
    " - `selling_price` of \"coupe\" is quite variational - important to be kept for predictive modelling"
   ]
  },
  {
   "cell_type": "markdown",
   "id": "45b5a469",
   "metadata": {
    "id": "45b5a469"
   },
   "source": [
    "#### How many categories of \"make\" in the data?  "
   ]
  },
  {
   "cell_type": "code",
   "execution_count": 30,
   "id": "437ace78",
   "metadata": {
    "colab": {
     "base_uri": "https://localhost:8080/"
    },
    "id": "437ace78",
    "outputId": "271ce4e4-3754-4027-f0b5-0d5aece5636a"
   },
   "outputs": [
    {
     "data": {
      "text/plain": [
       "41"
      ]
     },
     "execution_count": 30,
     "metadata": {},
     "output_type": "execute_result"
    }
   ],
   "source": [
    "len(df[\"make\"].unique())"
   ]
  },
  {
   "cell_type": "markdown",
   "id": "19f90315",
   "metadata": {
    "id": "19f90315"
   },
   "source": [
    "There are 41 car brands in the data - too many levels, think of possible ways to encode them as numbers"
   ]
  },
  {
   "cell_type": "markdown",
   "id": "390e0023",
   "metadata": {
    "id": "390e0023"
   },
   "source": [
    "#### What are item counts for different \"make\"?"
   ]
  },
  {
   "cell_type": "code",
   "execution_count": 31,
   "id": "f4f00f28",
   "metadata": {
    "colab": {
     "base_uri": "https://localhost:8080/",
     "height": 415
    },
    "id": "f4f00f28",
    "outputId": "dc0f839b-d4cf-46de-9b2a-ebbaa2699136"
   },
   "outputs": [
    {
     "data": {
      "image/png": "[encoded data removed]",
      "text/plain": [
       "<Figure size 1080x360 with 1 Axes>"
      ]
     },
     "metadata": {
      "needs_background": "light"
     },
     "output_type": "display_data"
    }
   ],
   "source": [
    "plt.figure(figsize=(15,5))\n",
    "sns.countplot(x='make', data=df, order = df['make'].value_counts().index)\n",
    "plt.xticks(rotation=90);\n",
    "plt.title(\"Make and no of items sold\")\n",
    "plt.show()"
   ]
  },
  {
   "cell_type": "markdown",
   "id": "445ff873",
   "metadata": {
    "id": "445ff873"
   },
   "source": [
    "#### How is \"make\" related to the selling price?"
   ]
  },
  {
   "cell_type": "code",
   "execution_count": 32,
   "id": "6b254bad",
   "metadata": {
    "colab": {
     "base_uri": "https://localhost:8080/",
     "height": 415
    },
    "id": "6b254bad",
    "outputId": "4820bbcb-20cc-49d9-dba6-a75bde6a9ef2"
   },
   "outputs": [
    {
     "data": {
      "image/png": "[encoded data removed]",
      "text/plain": [
       "<Figure size 1080x360 with 1 Axes>"
      ]
     },
     "metadata": {
      "needs_background": "light"
     },
     "output_type": "display_data"
    }
   ],
   "source": [
    "plt.figure(figsize=(15,5))\n",
    "sns.boxplot(y='log_selling_price',x='make', data=df, order = df['make'].value_counts().index)\n",
    "plt.xticks(rotation=90);\n",
    "plt.title(\"Selling Price for different make\")\n",
    "plt.show()"
   ]
  },
  {
   "cell_type": "markdown",
   "id": "HTp-ssZsU3wW",
   "metadata": {
    "id": "HTp-ssZsU3wW"
   },
   "source": [
    "Lets drop this column for now"
   ]
  },
  {
   "cell_type": "code",
   "execution_count": null,
   "id": "47695630",
   "metadata": {
    "id": "47695630"
   },
   "outputs": [],
   "source": [
    "df.drop(\"log_selling_price\", axis=1, inplace=True)"
   ]
  },
  {
   "cell_type": "markdown",
   "id": "89fb9b6a",
   "metadata": {
    "id": "89fb9b6a"
   },
   "source": [
    "> - How should we treat number of seats? Continuous OR Categorical ?\n",
    "> - **Answer**: \n",
    "> -- Number of seats is a variable with a finite discrete set of values. However it is orderd. If we make it categorical, it would be fed into the model as unordered. \n",
    "> --  But we need to think do we want that order? Example 2 seater cars are most likely more expensive than other cars. So in this sense 2 > 5. We actually would benefit from discarding the order.\n",
    "\n",
    "\n",
    "> - Can you convert number of seats to a variable which has 9 unique values with 3 categories?\n",
    "> - **Hint**: Merge some elements. Eg all cars with > 5 seats are on category.\n",
    "> - Can we do something similar with the \"make variable\"\n",
    "\n"
   ]
  },
  {
   "cell_type": "markdown",
   "id": "adadca0c",
   "metadata": {
    "id": "adadca0c"
   },
   "source": [
    "---\n",
    "# Feature Engineering\n",
    "\n"
   ]
  },
  {
   "cell_type": "code",
   "execution_count": 34,
   "id": "07197c4b",
   "metadata": {
    "colab": {
     "base_uri": "https://localhost:8080/",
     "height": 374
    },
    "id": "07197c4b",
    "outputId": "e9eaea3b-acfa-4f53-dd2c-226dfca68163"
   },
   "outputs": [
    {
     "data": {
      "text/html": [
       "<div>\n",
       "<style scoped>\n",
       "    .dataframe tbody tr th:only-of-type {\n",
       "        vertical-align: middle;\n",
       "    }\n",
       "\n",
       "    .dataframe tbody tr th {\n",
       "        vertical-align: top;\n",
       "    }\n",
       "\n",
       "    .dataframe thead th {\n",
       "        text-align: right;\n",
       "    }\n",
       "</style>\n",
       "<table border=\"1\" class=\"dataframe\">\n",
       "  <thead>\n",
       "    <tr style=\"text-align: right;\">\n",
       "      <th></th>\n",
       "      <th>selling_price</th>\n",
       "      <th>year</th>\n",
       "      <th>seller_type</th>\n",
       "      <th>km_driven</th>\n",
       "      <th>fuel_type</th>\n",
       "      <th>transmission_type</th>\n",
       "      <th>mileage</th>\n",
       "      <th>engine</th>\n",
       "      <th>max_power</th>\n",
       "      <th>seats</th>\n",
       "      <th>make</th>\n",
       "      <th>model</th>\n",
       "      <th>log_selling_price</th>\n",
       "    </tr>\n",
       "  </thead>\n",
       "  <tbody>\n",
       "    <tr>\n",
       "      <th>0</th>\n",
       "      <td>2.85</td>\n",
       "      <td>2007.0</td>\n",
       "      <td>Individual</td>\n",
       "      <td>110000</td>\n",
       "      <td>Petrol</td>\n",
       "      <td>Manual</td>\n",
       "      <td>15.00</td>\n",
       "      <td>1586.0</td>\n",
       "      <td>104.68</td>\n",
       "      <td>5.0</td>\n",
       "      <td>Maruti</td>\n",
       "      <td>SX4 Zxi BSIII</td>\n",
       "      <td>1.047319</td>\n",
       "    </tr>\n",
       "    <tr>\n",
       "      <th>1</th>\n",
       "      <td>4.70</td>\n",
       "      <td>2012.0</td>\n",
       "      <td>Dealer</td>\n",
       "      <td>70000</td>\n",
       "      <td>Diesel</td>\n",
       "      <td>Manual</td>\n",
       "      <td>21.90</td>\n",
       "      <td>1396.0</td>\n",
       "      <td>88.76</td>\n",
       "      <td>5.0</td>\n",
       "      <td>Hyundai</td>\n",
       "      <td>i20 Sportz 1.4 CRDi</td>\n",
       "      <td>1.547563</td>\n",
       "    </tr>\n",
       "    <tr>\n",
       "      <th>2</th>\n",
       "      <td>5.25</td>\n",
       "      <td>2015.0</td>\n",
       "      <td>Individual</td>\n",
       "      <td>70000</td>\n",
       "      <td>Diesel</td>\n",
       "      <td>Manual</td>\n",
       "      <td>25.20</td>\n",
       "      <td>1248.0</td>\n",
       "      <td>74.00</td>\n",
       "      <td>5.0</td>\n",
       "      <td>Maruti</td>\n",
       "      <td>Swift VDI BSIV</td>\n",
       "      <td>1.658228</td>\n",
       "    </tr>\n",
       "    <tr>\n",
       "      <th>3</th>\n",
       "      <td>1.25</td>\n",
       "      <td>2005.0</td>\n",
       "      <td>Individual</td>\n",
       "      <td>90000</td>\n",
       "      <td>Petrol</td>\n",
       "      <td>Manual</td>\n",
       "      <td>13.00</td>\n",
       "      <td>1343.0</td>\n",
       "      <td>90.00</td>\n",
       "      <td>5.0</td>\n",
       "      <td>Honda</td>\n",
       "      <td>City 1.3 EXI</td>\n",
       "      <td>0.223144</td>\n",
       "    </tr>\n",
       "    <tr>\n",
       "      <th>4</th>\n",
       "      <td>4.65</td>\n",
       "      <td>2015.0</td>\n",
       "      <td>Dealer</td>\n",
       "      <td>41000</td>\n",
       "      <td>Petrol</td>\n",
       "      <td>Manual</td>\n",
       "      <td>16.47</td>\n",
       "      <td>1198.0</td>\n",
       "      <td>74.00</td>\n",
       "      <td>5.0</td>\n",
       "      <td>Volkswagen</td>\n",
       "      <td>Polo 1.2 MPI Comfortline</td>\n",
       "      <td>1.536867</td>\n",
       "    </tr>\n",
       "  </tbody>\n",
       "</table>\n",
       "</div>"
      ],
      "text/plain": [
       "   selling_price    year seller_type  km_driven fuel_type transmission_type  \\\n",
       "0           2.85  2007.0  Individual     110000    Petrol            Manual   \n",
       "1           4.70  2012.0      Dealer      70000    Diesel            Manual   \n",
       "2           5.25  2015.0  Individual      70000    Diesel            Manual   \n",
       "3           1.25  2005.0  Individual      90000    Petrol            Manual   \n",
       "4           4.65  2015.0      Dealer      41000    Petrol            Manual   \n",
       "\n",
       "   mileage  engine  max_power  seats        make                     model  \\\n",
       "0    15.00  1586.0     104.68    5.0      Maruti             SX4 Zxi BSIII   \n",
       "1    21.90  1396.0      88.76    5.0     Hyundai       i20 Sportz 1.4 CRDi   \n",
       "2    25.20  1248.0      74.00    5.0      Maruti            Swift VDI BSIV   \n",
       "3    13.00  1343.0      90.00    5.0       Honda              City 1.3 EXI   \n",
       "4    16.47  1198.0      74.00    5.0  Volkswagen  Polo 1.2 MPI Comfortline   \n",
       "\n",
       "   log_selling_price  \n",
       "0           1.047319  \n",
       "1           1.547563  \n",
       "2           1.658228  \n",
       "3           0.223144  \n",
       "4           1.536867  "
      ]
     },
     "execution_count": 34,
     "metadata": {},
     "output_type": "execute_result"
    }
   ],
   "source": [
    "df.head()"
   ]
  },
  {
   "cell_type": "markdown",
   "id": "fa96ba16",
   "metadata": {
    "id": "fa96ba16"
   },
   "source": [
    "### 1. Year\n",
    "\n",
    "Sometimes it is good practice to convert the features into the way we actually understand. This will not necessarily help the model, but helps in us in understanding / interpreting predictions little better\n",
    "\n",
    "- So lets convert year to more readable ***age***"
   ]
  },
  {
   "cell_type": "code",
   "execution_count": 35,
   "id": "775b97cc",
   "metadata": {
    "colab": {
     "base_uri": "https://localhost:8080/",
     "height": 283
    },
    "id": "775b97cc",
    "outputId": "236ccff2-716f-483b-eaa0-6f9e2d97f9bd"
   },
   "outputs": [
    {
     "data": {
      "text/plain": [
       "<matplotlib.collections.PathCollection at 0x1d090b42f70>"
      ]
     },
     "execution_count": 35,
     "metadata": {},
     "output_type": "execute_result"
    },
    {
     "data": {
      "image/png": "[encoded data removed]",
      "text/plain": [
       "<Figure size 432x288 with 1 Axes>"
      ]
     },
     "metadata": {
      "needs_background": "light"
     },
     "output_type": "display_data"
    }
   ],
   "source": [
    "current_year = 2020\n",
    "age = current_year - df['year']\n",
    "plt.scatter(age, df.selling_price)"
   ]
  },
  {
   "cell_type": "markdown",
   "id": "346e9a13",
   "metadata": {
    "id": "346e9a13"
   },
   "source": [
    "**Higher selling price for newer cars !!**"
   ]
  },
  {
   "cell_type": "markdown",
   "id": "fa722d37",
   "metadata": {
    "id": "fa722d37"
   },
   "source": [
    "### 2. Categorical Encoding\n",
    "\n",
    "#### Q: How do we encode categorical variables for modelling?\n",
    "\n",
    "#### 2.1 transmission_type (2 categories)"
   ]
  },
  {
   "cell_type": "code",
   "execution_count": 36,
   "id": "0094aa5b",
   "metadata": {
    "colab": {
     "base_uri": "https://localhost:8080/",
     "height": 263
    },
    "id": "0094aa5b",
    "outputId": "62e7b264-5c9b-45be-a80d-c26250806187"
   },
   "outputs": [
    {
     "data": {
      "text/html": [
       "<div>\n",
       "<style scoped>\n",
       "    .dataframe tbody tr th:only-of-type {\n",
       "        vertical-align: middle;\n",
       "    }\n",
       "\n",
       "    .dataframe tbody tr th {\n",
       "        vertical-align: top;\n",
       "    }\n",
       "\n",
       "    .dataframe thead th {\n",
       "        text-align: right;\n",
       "    }\n",
       "</style>\n",
       "<table border=\"1\" class=\"dataframe\">\n",
       "  <thead>\n",
       "    <tr style=\"text-align: right;\">\n",
       "      <th></th>\n",
       "      <th>selling_price</th>\n",
       "      <th>year</th>\n",
       "      <th>seller_type</th>\n",
       "      <th>km_driven</th>\n",
       "      <th>fuel_type</th>\n",
       "      <th>mileage</th>\n",
       "      <th>engine</th>\n",
       "      <th>max_power</th>\n",
       "      <th>seats</th>\n",
       "      <th>make</th>\n",
       "      <th>model</th>\n",
       "      <th>log_selling_price</th>\n",
       "      <th>transmission_type</th>\n",
       "    </tr>\n",
       "  </thead>\n",
       "  <tbody>\n",
       "    <tr>\n",
       "      <th>6322</th>\n",
       "      <td>8.95</td>\n",
       "      <td>2013.0</td>\n",
       "      <td>Dealer</td>\n",
       "      <td>121000</td>\n",
       "      <td>Diesel</td>\n",
       "      <td>12.80</td>\n",
       "      <td>2494.0</td>\n",
       "      <td>102.00</td>\n",
       "      <td>8.0</td>\n",
       "      <td>Toyota</td>\n",
       "      <td>Innova 2.5 V Diesel 8-seater</td>\n",
       "      <td>2.191654</td>\n",
       "      <td>1</td>\n",
       "    </tr>\n",
       "    <tr>\n",
       "      <th>9929</th>\n",
       "      <td>7.00</td>\n",
       "      <td>2016.0</td>\n",
       "      <td>Individual</td>\n",
       "      <td>50000</td>\n",
       "      <td>Diesel</td>\n",
       "      <td>21.19</td>\n",
       "      <td>1396.0</td>\n",
       "      <td>88.73</td>\n",
       "      <td>5.0</td>\n",
       "      <td>Hyundai</td>\n",
       "      <td>i20 Active 1.4 SX</td>\n",
       "      <td>1.945910</td>\n",
       "      <td>1</td>\n",
       "    </tr>\n",
       "  </tbody>\n",
       "</table>\n",
       "</div>"
      ],
      "text/plain": [
       "      selling_price    year seller_type  km_driven fuel_type  mileage  engine  \\\n",
       "6322           8.95  2013.0      Dealer     121000    Diesel    12.80  2494.0   \n",
       "9929           7.00  2016.0  Individual      50000    Diesel    21.19  1396.0   \n",
       "\n",
       "      max_power  seats     make                         model  \\\n",
       "6322     102.00    8.0   Toyota  Innova 2.5 V Diesel 8-seater   \n",
       "9929      88.73    5.0  Hyundai             i20 Active 1.4 SX   \n",
       "\n",
       "      log_selling_price  transmission_type  \n",
       "6322           2.191654                  1  \n",
       "9929           1.945910                  1  "
      ]
     },
     "execution_count": 36,
     "metadata": {},
     "output_type": "execute_result"
    }
   ],
   "source": [
    "# explains how two category variable can be encoded as a binary variable\n",
    "transmission_dummy = pd.get_dummies(df[\"transmission_type\"])\n",
    "df = pd.concat([df, transmission_dummy], axis=1)\n",
    "df = df.drop([\"transmission_type\", \"Automatic\"], axis=1)\n",
    "df = df.rename(columns={\"Manual\": \"transmission_type\"})\n",
    "df.sample(frac=1).head(2)"
   ]
  },
  {
   "cell_type": "markdown",
   "id": "1dbb8f46",
   "metadata": {
    "id": "1dbb8f46"
   },
   "source": [
    "#### 2.2 fuel_type (5 categores)"
   ]
  },
  {
   "cell_type": "code",
   "execution_count": 37,
   "id": "f1232344",
   "metadata": {
    "colab": {
     "base_uri": "https://localhost:8080/",
     "height": 112
    },
    "id": "f1232344",
    "outputId": "a8551688-84a5-4072-89dc-a3ebcdbf1130"
   },
   "outputs": [
    {
     "data": {
      "text/html": [
       "<div>\n",
       "<style scoped>\n",
       "    .dataframe tbody tr th:only-of-type {\n",
       "        vertical-align: middle;\n",
       "    }\n",
       "\n",
       "    .dataframe tbody tr th {\n",
       "        vertical-align: top;\n",
       "    }\n",
       "\n",
       "    .dataframe thead th {\n",
       "        text-align: right;\n",
       "    }\n",
       "</style>\n",
       "<table border=\"1\" class=\"dataframe\">\n",
       "  <thead>\n",
       "    <tr style=\"text-align: right;\">\n",
       "      <th></th>\n",
       "      <th>seats_CNG</th>\n",
       "      <th>seats_Diesel</th>\n",
       "      <th>seats_Electric</th>\n",
       "      <th>seats_LPG</th>\n",
       "      <th>seats_Petrol</th>\n",
       "    </tr>\n",
       "  </thead>\n",
       "  <tbody>\n",
       "    <tr>\n",
       "      <th>2769</th>\n",
       "      <td>0</td>\n",
       "      <td>0</td>\n",
       "      <td>0</td>\n",
       "      <td>0</td>\n",
       "      <td>1</td>\n",
       "    </tr>\n",
       "    <tr>\n",
       "      <th>7916</th>\n",
       "      <td>0</td>\n",
       "      <td>1</td>\n",
       "      <td>0</td>\n",
       "      <td>0</td>\n",
       "      <td>0</td>\n",
       "    </tr>\n",
       "  </tbody>\n",
       "</table>\n",
       "</div>"
      ],
      "text/plain": [
       "      seats_CNG  seats_Diesel  seats_Electric  seats_LPG  seats_Petrol\n",
       "2769          0             0               0          0             1\n",
       "7916          0             1               0          0             0"
      ]
     },
     "execution_count": 37,
     "metadata": {},
     "output_type": "execute_result"
    }
   ],
   "source": [
    "fuel_type_dummy = pd.get_dummies(df[\"fuel_type\"], prefix=\"seats\")\n",
    "fuel_type_dummy.sample(frac=1).head(2)"
   ]
  },
  {
   "cell_type": "markdown",
   "id": "0677c9b9",
   "metadata": {
    "id": "0677c9b9"
   },
   "source": [
    "**NOTE:** We remove 1 of the dummy variables to avoid the dummy variable trap"
   ]
  },
  {
   "cell_type": "code",
   "execution_count": 38,
   "id": "ef232228",
   "metadata": {
    "colab": {
     "base_uri": "https://localhost:8080/",
     "height": 112
    },
    "id": "ef232228",
    "outputId": "3108fdf9-e2b7-4554-f257-168655573f38"
   },
   "outputs": [
    {
     "data": {
      "text/html": [
       "<div>\n",
       "<style scoped>\n",
       "    .dataframe tbody tr th:only-of-type {\n",
       "        vertical-align: middle;\n",
       "    }\n",
       "\n",
       "    .dataframe tbody tr th {\n",
       "        vertical-align: top;\n",
       "    }\n",
       "\n",
       "    .dataframe thead th {\n",
       "        text-align: right;\n",
       "    }\n",
       "</style>\n",
       "<table border=\"1\" class=\"dataframe\">\n",
       "  <thead>\n",
       "    <tr style=\"text-align: right;\">\n",
       "      <th></th>\n",
       "      <th>seats_Diesel</th>\n",
       "      <th>seats_Electric</th>\n",
       "      <th>seats_LPG</th>\n",
       "      <th>seats_Petrol</th>\n",
       "    </tr>\n",
       "  </thead>\n",
       "  <tbody>\n",
       "    <tr>\n",
       "      <th>0</th>\n",
       "      <td>0</td>\n",
       "      <td>0</td>\n",
       "      <td>0</td>\n",
       "      <td>1</td>\n",
       "    </tr>\n",
       "    <tr>\n",
       "      <th>1</th>\n",
       "      <td>1</td>\n",
       "      <td>0</td>\n",
       "      <td>0</td>\n",
       "      <td>0</td>\n",
       "    </tr>\n",
       "  </tbody>\n",
       "</table>\n",
       "</div>"
      ],
      "text/plain": [
       "   seats_Diesel  seats_Electric  seats_LPG  seats_Petrol\n",
       "0             0               0          0             1\n",
       "1             1               0          0             0"
      ]
     },
     "execution_count": 38,
     "metadata": {},
     "output_type": "execute_result"
    }
   ],
   "source": [
    "fuel_type_dummy = fuel_type_dummy[fuel_type_dummy.columns[1:]]\n",
    "fuel_type_dummy.head(2)"
   ]
  },
  {
   "cell_type": "code",
   "execution_count": 39,
   "id": "5ab6c20a",
   "metadata": {
    "colab": {
     "base_uri": "https://localhost:8080/",
     "height": 263
    },
    "id": "5ab6c20a",
    "outputId": "a023e861-da93-4d6e-be0c-ab9de35fb28a"
   },
   "outputs": [
    {
     "data": {
      "text/html": [
       "<div>\n",
       "<style scoped>\n",
       "    .dataframe tbody tr th:only-of-type {\n",
       "        vertical-align: middle;\n",
       "    }\n",
       "\n",
       "    .dataframe tbody tr th {\n",
       "        vertical-align: top;\n",
       "    }\n",
       "\n",
       "    .dataframe thead th {\n",
       "        text-align: right;\n",
       "    }\n",
       "</style>\n",
       "<table border=\"1\" class=\"dataframe\">\n",
       "  <thead>\n",
       "    <tr style=\"text-align: right;\">\n",
       "      <th></th>\n",
       "      <th>selling_price</th>\n",
       "      <th>year</th>\n",
       "      <th>seller_type</th>\n",
       "      <th>km_driven</th>\n",
       "      <th>fuel_type</th>\n",
       "      <th>mileage</th>\n",
       "      <th>engine</th>\n",
       "      <th>max_power</th>\n",
       "      <th>seats</th>\n",
       "      <th>make</th>\n",
       "      <th>model</th>\n",
       "      <th>log_selling_price</th>\n",
       "      <th>transmission_type</th>\n",
       "      <th>seats_Diesel</th>\n",
       "      <th>seats_Electric</th>\n",
       "      <th>seats_LPG</th>\n",
       "      <th>seats_Petrol</th>\n",
       "    </tr>\n",
       "  </thead>\n",
       "  <tbody>\n",
       "    <tr>\n",
       "      <th>9386</th>\n",
       "      <td>3.95</td>\n",
       "      <td>2012.0</td>\n",
       "      <td>Dealer</td>\n",
       "      <td>64000</td>\n",
       "      <td>Petrol</td>\n",
       "      <td>20.36</td>\n",
       "      <td>1197.0</td>\n",
       "      <td>78.9</td>\n",
       "      <td>5.0</td>\n",
       "      <td>Hyundai</td>\n",
       "      <td>i10 Sportz 1.2</td>\n",
       "      <td>1.373716</td>\n",
       "      <td>1</td>\n",
       "      <td>0</td>\n",
       "      <td>0</td>\n",
       "      <td>0</td>\n",
       "      <td>1</td>\n",
       "    </tr>\n",
       "    <tr>\n",
       "      <th>4265</th>\n",
       "      <td>7.60</td>\n",
       "      <td>2018.0</td>\n",
       "      <td>Individual</td>\n",
       "      <td>50000</td>\n",
       "      <td>Petrol</td>\n",
       "      <td>17.50</td>\n",
       "      <td>1373.0</td>\n",
       "      <td>91.1</td>\n",
       "      <td>7.0</td>\n",
       "      <td>Maruti</td>\n",
       "      <td>Ertiga VXI Limited Edition</td>\n",
       "      <td>2.028148</td>\n",
       "      <td>1</td>\n",
       "      <td>0</td>\n",
       "      <td>0</td>\n",
       "      <td>0</td>\n",
       "      <td>1</td>\n",
       "    </tr>\n",
       "  </tbody>\n",
       "</table>\n",
       "</div>"
      ],
      "text/plain": [
       "      selling_price    year seller_type  km_driven fuel_type  mileage  engine  \\\n",
       "9386           3.95  2012.0      Dealer      64000    Petrol    20.36  1197.0   \n",
       "4265           7.60  2018.0  Individual      50000    Petrol    17.50  1373.0   \n",
       "\n",
       "      max_power  seats     make                       model  \\\n",
       "9386       78.9    5.0  Hyundai              i10 Sportz 1.2   \n",
       "4265       91.1    7.0   Maruti  Ertiga VXI Limited Edition   \n",
       "\n",
       "      log_selling_price  transmission_type  seats_Diesel  seats_Electric  \\\n",
       "9386           1.373716                  1             0               0   \n",
       "4265           2.028148                  1             0               0   \n",
       "\n",
       "      seats_LPG  seats_Petrol  \n",
       "9386          0             1  \n",
       "4265          0             1  "
      ]
     },
     "execution_count": 39,
     "metadata": {},
     "output_type": "execute_result"
    }
   ],
   "source": [
    "pd.concat([df, fuel_type_dummy], axis=1).sample(frac=1).head(2)"
   ]
  },
  {
   "cell_type": "markdown",
   "id": "ed38308d",
   "metadata": {
    "id": "ed38308d"
   },
   "source": [
    "#### 2.3 make (too many categoies)"
   ]
  },
  {
   "cell_type": "code",
   "execution_count": 40,
   "id": "e5a1ec23",
   "metadata": {
    "colab": {
     "base_uri": "https://localhost:8080/"
    },
    "id": "e5a1ec23",
    "outputId": "aa2c1927-eaa4-4f52-9d81-fcecac6e2211"
   },
   "outputs": [
    {
     "data": {
      "text/plain": [
       "41"
      ]
     },
     "execution_count": 40,
     "metadata": {},
     "output_type": "execute_result"
    }
   ],
   "source": [
    "df.make.nunique()"
   ]
  },
  {
   "cell_type": "markdown",
   "id": "ffa3b60e",
   "metadata": {
    "id": "ffa3b60e"
   },
   "source": [
    "\n",
    "> - How to handle so many categories?\n",
    "* **Hint:** Here we have too many categories. We can merge categories as in 'seats' variable or we can try target encoding. Dummy encoding would make too many features with highly diluted information.\n",
    "\n",
    "Or we can try another technique known as **Target Encoding**"
   ]
  },
  {
   "cell_type": "code",
   "execution_count": 41,
   "id": "2447a9ce",
   "metadata": {
    "id": "2447a9ce"
   },
   "outputs": [],
   "source": [
    "encoded_make = df.groupby('make')['selling_price'].transform('mean')"
   ]
  },
  {
   "cell_type": "code",
   "execution_count": 42,
   "id": "e10ebeb6",
   "metadata": {
    "colab": {
     "base_uri": "https://localhost:8080/",
     "height": 224
    },
    "id": "e10ebeb6",
    "outputId": "c8d597d3-a67a-4d18-9398-333f2fad47ea"
   },
   "outputs": [
    {
     "name": "stdout",
     "output_type": "stream",
     "text": [
      "41\n"
     ]
    },
    {
     "data": {
      "text/html": [
       "<div>\n",
       "<style scoped>\n",
       "    .dataframe tbody tr th:only-of-type {\n",
       "        vertical-align: middle;\n",
       "    }\n",
       "\n",
       "    .dataframe tbody tr th {\n",
       "        vertical-align: top;\n",
       "    }\n",
       "\n",
       "    .dataframe thead th {\n",
       "        text-align: right;\n",
       "    }\n",
       "</style>\n",
       "<table border=\"1\" class=\"dataframe\">\n",
       "  <thead>\n",
       "    <tr style=\"text-align: right;\">\n",
       "      <th></th>\n",
       "      <th>make</th>\n",
       "      <th>encoded_make</th>\n",
       "    </tr>\n",
       "  </thead>\n",
       "  <tbody>\n",
       "    <tr>\n",
       "      <th>0</th>\n",
       "      <td>Maruti</td>\n",
       "      <td>4.648484</td>\n",
       "    </tr>\n",
       "    <tr>\n",
       "      <th>1</th>\n",
       "      <td>Hyundai</td>\n",
       "      <td>5.344764</td>\n",
       "    </tr>\n",
       "    <tr>\n",
       "      <th>3</th>\n",
       "      <td>Honda</td>\n",
       "      <td>5.911203</td>\n",
       "    </tr>\n",
       "    <tr>\n",
       "      <th>4</th>\n",
       "      <td>Volkswagen</td>\n",
       "      <td>5.632862</td>\n",
       "    </tr>\n",
       "    <tr>\n",
       "      <th>5</th>\n",
       "      <td>Toyota</td>\n",
       "      <td>11.179478</td>\n",
       "    </tr>\n",
       "  </tbody>\n",
       "</table>\n",
       "</div>"
      ],
      "text/plain": [
       "         make  encoded_make\n",
       "0      Maruti      4.648484\n",
       "1     Hyundai      5.344764\n",
       "3       Honda      5.911203\n",
       "4  Volkswagen      5.632862\n",
       "5      Toyota     11.179478"
      ]
     },
     "execution_count": 42,
     "metadata": {},
     "output_type": "execute_result"
    }
   ],
   "source": [
    "show_df = df[['make']].copy()\n",
    "show_df['encoded_make'] = encoded_make\n",
    "show_df = show_df.drop_duplicates()\n",
    "print(len(show_df))\n",
    "show_df.head()"
   ]
  },
  {
   "cell_type": "markdown",
   "id": "30b25ce2",
   "metadata": {
    "id": "30b25ce2"
   },
   "source": [
    "### 3. Scaling\n",
    "\n",
    "#### Q: Now, All these variables have different ranges. Does that work?"
   ]
  },
  {
   "cell_type": "code",
   "execution_count": 43,
   "id": "628c31cd",
   "metadata": {
    "colab": {
     "base_uri": "https://localhost:8080/",
     "height": 300
    },
    "id": "628c31cd",
    "outputId": "e1e32b8b-cb8e-45cf-de5c-631f666d55b6"
   },
   "outputs": [
    {
     "data": {
      "text/html": [
       "<div>\n",
       "<style scoped>\n",
       "    .dataframe tbody tr th:only-of-type {\n",
       "        vertical-align: middle;\n",
       "    }\n",
       "\n",
       "    .dataframe tbody tr th {\n",
       "        vertical-align: top;\n",
       "    }\n",
       "\n",
       "    .dataframe thead th {\n",
       "        text-align: right;\n",
       "    }\n",
       "</style>\n",
       "<table border=\"1\" class=\"dataframe\">\n",
       "  <thead>\n",
       "    <tr style=\"text-align: right;\">\n",
       "      <th></th>\n",
       "      <th>selling_price</th>\n",
       "      <th>year</th>\n",
       "      <th>km_driven</th>\n",
       "      <th>mileage</th>\n",
       "      <th>engine</th>\n",
       "      <th>max_power</th>\n",
       "      <th>seats</th>\n",
       "      <th>log_selling_price</th>\n",
       "      <th>transmission_type</th>\n",
       "    </tr>\n",
       "  </thead>\n",
       "  <tbody>\n",
       "    <tr>\n",
       "      <th>count</th>\n",
       "      <td>13986.000000</td>\n",
       "      <td>13986.000000</td>\n",
       "      <td>1.398600e+04</td>\n",
       "      <td>13986.000000</td>\n",
       "      <td>13986.000000</td>\n",
       "      <td>13986.000000</td>\n",
       "      <td>13986.000000</td>\n",
       "      <td>13986.000000</td>\n",
       "      <td>13986.000000</td>\n",
       "    </tr>\n",
       "    <tr>\n",
       "      <th>mean</th>\n",
       "      <td>7.327126</td>\n",
       "      <td>2014.516088</td>\n",
       "      <td>5.797629e+04</td>\n",
       "      <td>19.356221</td>\n",
       "      <td>1473.574905</td>\n",
       "      <td>97.685631</td>\n",
       "      <td>5.313242</td>\n",
       "      <td>1.668904</td>\n",
       "      <td>0.804447</td>\n",
       "    </tr>\n",
       "    <tr>\n",
       "      <th>std</th>\n",
       "      <td>8.310745</td>\n",
       "      <td>3.256795</td>\n",
       "      <td>5.378180e+04</td>\n",
       "      <td>4.638576</td>\n",
       "      <td>518.289204</td>\n",
       "      <td>45.067944</td>\n",
       "      <td>0.831653</td>\n",
       "      <td>0.751234</td>\n",
       "      <td>0.396640</td>\n",
       "    </tr>\n",
       "    <tr>\n",
       "      <th>min</th>\n",
       "      <td>0.325000</td>\n",
       "      <td>1991.000000</td>\n",
       "      <td>1.000000e+02</td>\n",
       "      <td>0.000000</td>\n",
       "      <td>0.000000</td>\n",
       "      <td>5.000000</td>\n",
       "      <td>2.000000</td>\n",
       "      <td>-1.123930</td>\n",
       "      <td>0.000000</td>\n",
       "    </tr>\n",
       "    <tr>\n",
       "      <th>25%</th>\n",
       "      <td>3.400000</td>\n",
       "      <td>2013.000000</td>\n",
       "      <td>3.100000e+04</td>\n",
       "      <td>16.840000</td>\n",
       "      <td>1197.000000</td>\n",
       "      <td>73.900000</td>\n",
       "      <td>5.000000</td>\n",
       "      <td>1.223775</td>\n",
       "      <td>1.000000</td>\n",
       "    </tr>\n",
       "    <tr>\n",
       "      <th>50%</th>\n",
       "      <td>5.100000</td>\n",
       "      <td>2015.000000</td>\n",
       "      <td>5.120000e+04</td>\n",
       "      <td>19.160000</td>\n",
       "      <td>1248.000000</td>\n",
       "      <td>86.700000</td>\n",
       "      <td>5.000000</td>\n",
       "      <td>1.629241</td>\n",
       "      <td>1.000000</td>\n",
       "    </tr>\n",
       "    <tr>\n",
       "      <th>75%</th>\n",
       "      <td>7.800000</td>\n",
       "      <td>2017.000000</td>\n",
       "      <td>7.397800e+04</td>\n",
       "      <td>22.320000</td>\n",
       "      <td>1582.000000</td>\n",
       "      <td>112.000000</td>\n",
       "      <td>5.000000</td>\n",
       "      <td>2.054124</td>\n",
       "      <td>1.000000</td>\n",
       "    </tr>\n",
       "    <tr>\n",
       "      <th>max</th>\n",
       "      <td>100.000000</td>\n",
       "      <td>2021.000000</td>\n",
       "      <td>3.800000e+06</td>\n",
       "      <td>120.000000</td>\n",
       "      <td>6752.000000</td>\n",
       "      <td>626.000000</td>\n",
       "      <td>14.000000</td>\n",
       "      <td>4.605170</td>\n",
       "      <td>1.000000</td>\n",
       "    </tr>\n",
       "  </tbody>\n",
       "</table>\n",
       "</div>"
      ],
      "text/plain": [
       "       selling_price          year     km_driven       mileage        engine  \\\n",
       "count   13986.000000  13986.000000  1.398600e+04  13986.000000  13986.000000   \n",
       "mean        7.327126   2014.516088  5.797629e+04     19.356221   1473.574905   \n",
       "std         8.310745      3.256795  5.378180e+04      4.638576    518.289204   \n",
       "min         0.325000   1991.000000  1.000000e+02      0.000000      0.000000   \n",
       "25%         3.400000   2013.000000  3.100000e+04     16.840000   1197.000000   \n",
       "50%         5.100000   2015.000000  5.120000e+04     19.160000   1248.000000   \n",
       "75%         7.800000   2017.000000  7.397800e+04     22.320000   1582.000000   \n",
       "max       100.000000   2021.000000  3.800000e+06    120.000000   6752.000000   \n",
       "\n",
       "          max_power         seats  log_selling_price  transmission_type  \n",
       "count  13986.000000  13986.000000       13986.000000       13986.000000  \n",
       "mean      97.685631      5.313242           1.668904           0.804447  \n",
       "std       45.067944      0.831653           0.751234           0.396640  \n",
       "min        5.000000      2.000000          -1.123930           0.000000  \n",
       "25%       73.900000      5.000000           1.223775           1.000000  \n",
       "50%       86.700000      5.000000           1.629241           1.000000  \n",
       "75%      112.000000      5.000000           2.054124           1.000000  \n",
       "max      626.000000     14.000000           4.605170           1.000000  "
      ]
     },
     "execution_count": 43,
     "metadata": {},
     "output_type": "execute_result"
    }
   ],
   "source": [
    "df.describe()"
   ]
  },
  {
   "cell_type": "markdown",
   "id": "wgzRew8dVgwQ",
   "metadata": {
    "id": "wgzRew8dVgwQ"
   },
   "source": [
    "Lets scale this data. We will use MinMaxScaler here (in practice you can choose your scaling techniques depending on the problem, or just try all and see what works best)"
   ]
  },
  {
   "cell_type": "code",
   "execution_count": 44,
   "id": "60980898",
   "metadata": {
    "colab": {
     "base_uri": "https://localhost:8080/",
     "height": 206
    },
    "id": "60980898",
    "outputId": "44ffa621-07ad-404d-e133-90487c848c0c"
   },
   "outputs": [
    {
     "data": {
      "text/html": [
       "<div>\n",
       "<style scoped>\n",
       "    .dataframe tbody tr th:only-of-type {\n",
       "        vertical-align: middle;\n",
       "    }\n",
       "\n",
       "    .dataframe tbody tr th {\n",
       "        vertical-align: top;\n",
       "    }\n",
       "\n",
       "    .dataframe thead th {\n",
       "        text-align: right;\n",
       "    }\n",
       "</style>\n",
       "<table border=\"1\" class=\"dataframe\">\n",
       "  <thead>\n",
       "    <tr style=\"text-align: right;\">\n",
       "      <th></th>\n",
       "      <th>selling_price</th>\n",
       "      <th>km_driven</th>\n",
       "      <th>mileage</th>\n",
       "    </tr>\n",
       "  </thead>\n",
       "  <tbody>\n",
       "    <tr>\n",
       "      <th>0</th>\n",
       "      <td>0.025332</td>\n",
       "      <td>0.028922</td>\n",
       "      <td>0.125000</td>\n",
       "    </tr>\n",
       "    <tr>\n",
       "      <th>1</th>\n",
       "      <td>0.043893</td>\n",
       "      <td>0.018395</td>\n",
       "      <td>0.182500</td>\n",
       "    </tr>\n",
       "    <tr>\n",
       "      <th>2</th>\n",
       "      <td>0.049411</td>\n",
       "      <td>0.018395</td>\n",
       "      <td>0.210000</td>\n",
       "    </tr>\n",
       "    <tr>\n",
       "      <th>3</th>\n",
       "      <td>0.009280</td>\n",
       "      <td>0.023659</td>\n",
       "      <td>0.108333</td>\n",
       "    </tr>\n",
       "    <tr>\n",
       "      <th>4</th>\n",
       "      <td>0.043391</td>\n",
       "      <td>0.010763</td>\n",
       "      <td>0.137250</td>\n",
       "    </tr>\n",
       "  </tbody>\n",
       "</table>\n",
       "</div>"
      ],
      "text/plain": [
       "   selling_price  km_driven   mileage\n",
       "0       0.025332   0.028922  0.125000\n",
       "1       0.043893   0.018395  0.182500\n",
       "2       0.049411   0.018395  0.210000\n",
       "3       0.009280   0.023659  0.108333\n",
       "4       0.043391   0.010763  0.137250"
      ]
     },
     "execution_count": 44,
     "metadata": {},
     "output_type": "execute_result"
    }
   ],
   "source": [
    "from sklearn.preprocessing import MinMaxScaler, StandardScaler\n",
    "\n",
    "scaler = MinMaxScaler()\n",
    "scaler.fit(df[['selling_price', 'km_driven', 'mileage']])\n",
    "scaled_values = scaler.transform(df[['selling_price', 'km_driven', 'mileage']])  # returns numpy.ndarray not df.\n",
    "scaled_df = pd.DataFrame(scaled_values, columns=['selling_price', 'km_driven', 'mileage'])\n",
    "scaled_df.head()"
   ]
  },
  {
   "cell_type": "code",
   "execution_count": 45,
   "id": "79099970",
   "metadata": {
    "colab": {
     "base_uri": "https://localhost:8080/",
     "height": 300
    },
    "id": "79099970",
    "outputId": "2b97a0db-338c-45a4-ab02-7e4193c639aa"
   },
   "outputs": [
    {
     "data": {
      "text/html": [
       "<div>\n",
       "<style scoped>\n",
       "    .dataframe tbody tr th:only-of-type {\n",
       "        vertical-align: middle;\n",
       "    }\n",
       "\n",
       "    .dataframe tbody tr th {\n",
       "        vertical-align: top;\n",
       "    }\n",
       "\n",
       "    .dataframe thead th {\n",
       "        text-align: right;\n",
       "    }\n",
       "</style>\n",
       "<table border=\"1\" class=\"dataframe\">\n",
       "  <thead>\n",
       "    <tr style=\"text-align: right;\">\n",
       "      <th></th>\n",
       "      <th>selling_price</th>\n",
       "      <th>km_driven</th>\n",
       "      <th>mileage</th>\n",
       "    </tr>\n",
       "  </thead>\n",
       "  <tbody>\n",
       "    <tr>\n",
       "      <th>count</th>\n",
       "      <td>13986.000000</td>\n",
       "      <td>13986.000000</td>\n",
       "      <td>13986.000000</td>\n",
       "    </tr>\n",
       "    <tr>\n",
       "      <th>mean</th>\n",
       "      <td>0.070250</td>\n",
       "      <td>0.015231</td>\n",
       "      <td>0.161302</td>\n",
       "    </tr>\n",
       "    <tr>\n",
       "      <th>std</th>\n",
       "      <td>0.083378</td>\n",
       "      <td>0.014153</td>\n",
       "      <td>0.038655</td>\n",
       "    </tr>\n",
       "    <tr>\n",
       "      <th>min</th>\n",
       "      <td>0.000000</td>\n",
       "      <td>0.000000</td>\n",
       "      <td>0.000000</td>\n",
       "    </tr>\n",
       "    <tr>\n",
       "      <th>25%</th>\n",
       "      <td>0.030850</td>\n",
       "      <td>0.008132</td>\n",
       "      <td>0.140333</td>\n",
       "    </tr>\n",
       "    <tr>\n",
       "      <th>50%</th>\n",
       "      <td>0.047906</td>\n",
       "      <td>0.013448</td>\n",
       "      <td>0.159667</td>\n",
       "    </tr>\n",
       "    <tr>\n",
       "      <th>75%</th>\n",
       "      <td>0.074994</td>\n",
       "      <td>0.019442</td>\n",
       "      <td>0.186000</td>\n",
       "    </tr>\n",
       "    <tr>\n",
       "      <th>max</th>\n",
       "      <td>1.000000</td>\n",
       "      <td>1.000000</td>\n",
       "      <td>1.000000</td>\n",
       "    </tr>\n",
       "  </tbody>\n",
       "</table>\n",
       "</div>"
      ],
      "text/plain": [
       "       selling_price     km_driven       mileage\n",
       "count   13986.000000  13986.000000  13986.000000\n",
       "mean        0.070250      0.015231      0.161302\n",
       "std         0.083378      0.014153      0.038655\n",
       "min         0.000000      0.000000      0.000000\n",
       "25%         0.030850      0.008132      0.140333\n",
       "50%         0.047906      0.013448      0.159667\n",
       "75%         0.074994      0.019442      0.186000\n",
       "max         1.000000      1.000000      1.000000"
      ]
     },
     "execution_count": 45,
     "metadata": {},
     "output_type": "execute_result"
    }
   ],
   "source": [
    "scaled_df.describe()"
   ]
  },
  {
   "cell_type": "markdown",
   "id": "237d7fb6",
   "metadata": {
    "id": "237d7fb6"
   },
   "source": [
    "> - Try standard scaler and print \"df.describe\", and make density plots for both std scaler and minmax scaler"
   ]
  },
  {
   "cell_type": "markdown",
   "id": "95f5679f",
   "metadata": {
    "id": "95f5679f"
   },
   "source": [
    "---\n",
    "## Stichting it all together\n",
    "\n"
   ]
  },
  {
   "cell_type": "code",
   "execution_count": 46,
   "id": "57918401",
   "metadata": {
    "id": "57918401"
   },
   "outputs": [],
   "source": [
    "def merge_seats(x):\n",
    "    if 2 <= x <= 4:\n",
    "        return '2-4'\n",
    "    elif x > 5:\n",
    "        return '>5'\n",
    "    else:\n",
    "        return '5'\n",
    "    \n",
    "def preprocess(df):\n",
    "    df = df.loc[df.mileage != 0].copy()\n",
    "    outlier_theshold = df.selling_price.quantile(0.95)\n",
    "    df.loc[df.selling_price > outlier_theshold, 'selling_price'] = outlier_theshold\n",
    "    df['age'] = pd.to_datetime('now', utc=True).date().year - df['year']\n",
    "    df['full_name'] = df['full_name'].str.upper()\n",
    "    df['seats'] = df['seats'].apply(merge_seats)\n",
    "    df.drop(columns=['year'])\n",
    "    return df\n",
    "    \n",
    "def feature_engineering(df):\n",
    "    df['make'] = df.full_name.apply(lambda x : x.split()[0])\n",
    "    df['model'] = df.full_name.apply(lambda x : \" \".join(x.split()[1:]))\n",
    "    one_hot_encode_cols = ['seller_type', 'fuel_type', 'transmission_type', 'seats']\n",
    "    for column in one_hot_encode_cols:\n",
    "        df = pd.concat([df, pd.get_dummies(df[column]).iloc[: , 1:]], axis=1)\n",
    "    df.drop(columns=one_hot_encode_cols + ['full_name'], inplace=True)\n",
    "    df['make'] = df.groupby('make')['selling_price'].transform('median')\n",
    "    df['model'] = df.groupby('model')['selling_price'].transform('median')\n",
    "    scaler = MinMaxScaler()\n",
    "    df = pd.DataFrame(scaler.fit_transform(df), columns=df.columns)\n",
    "    return df"
   ]
  },
  {
   "cell_type": "code",
   "execution_count": 47,
   "id": "ec688e93",
   "metadata": {
    "colab": {
     "base_uri": "https://localhost:8080/",
     "height": 288
    },
    "id": "ec688e93",
    "outputId": "672e3183-aaec-4e4f-b51a-95efe124999f"
   },
   "outputs": [
    {
     "data": {
      "text/html": [
       "<div>\n",
       "<style scoped>\n",
       "    .dataframe tbody tr th:only-of-type {\n",
       "        vertical-align: middle;\n",
       "    }\n",
       "\n",
       "    .dataframe tbody tr th {\n",
       "        vertical-align: top;\n",
       "    }\n",
       "\n",
       "    .dataframe thead th {\n",
       "        text-align: right;\n",
       "    }\n",
       "</style>\n",
       "<table border=\"1\" class=\"dataframe\">\n",
       "  <thead>\n",
       "    <tr style=\"text-align: right;\">\n",
       "      <th></th>\n",
       "      <th>selling_price</th>\n",
       "      <th>year</th>\n",
       "      <th>km_driven</th>\n",
       "      <th>mileage</th>\n",
       "      <th>engine</th>\n",
       "      <th>max_power</th>\n",
       "      <th>age</th>\n",
       "      <th>make</th>\n",
       "      <th>model</th>\n",
       "      <th>Individual</th>\n",
       "      <th>Trustmark Dealer</th>\n",
       "      <th>Diesel</th>\n",
       "      <th>Electric</th>\n",
       "      <th>LPG</th>\n",
       "      <th>Petrol</th>\n",
       "      <th>Manual</th>\n",
       "      <th>5</th>\n",
       "      <th>&gt;5</th>\n",
       "    </tr>\n",
       "  </thead>\n",
       "  <tbody>\n",
       "    <tr>\n",
       "      <th>0</th>\n",
       "      <td>0.122128</td>\n",
       "      <td>0.517241</td>\n",
       "      <td>0.028922</td>\n",
       "      <td>0.094828</td>\n",
       "      <td>0.234893</td>\n",
       "      <td>0.160515</td>\n",
       "      <td>0.482759</td>\n",
       "      <td>0.179031</td>\n",
       "      <td>0.093108</td>\n",
       "      <td>1.0</td>\n",
       "      <td>0.0</td>\n",
       "      <td>0.0</td>\n",
       "      <td>0.0</td>\n",
       "      <td>0.0</td>\n",
       "      <td>1.0</td>\n",
       "      <td>1.0</td>\n",
       "      <td>1.0</td>\n",
       "      <td>0.0</td>\n",
       "    </tr>\n",
       "    <tr>\n",
       "      <th>1</th>\n",
       "      <td>0.211608</td>\n",
       "      <td>0.689655</td>\n",
       "      <td>0.018395</td>\n",
       "      <td>0.154310</td>\n",
       "      <td>0.206754</td>\n",
       "      <td>0.134879</td>\n",
       "      <td>0.310345</td>\n",
       "      <td>0.203759</td>\n",
       "      <td>0.200726</td>\n",
       "      <td>0.0</td>\n",
       "      <td>0.0</td>\n",
       "      <td>1.0</td>\n",
       "      <td>0.0</td>\n",
       "      <td>0.0</td>\n",
       "      <td>0.0</td>\n",
       "      <td>1.0</td>\n",
       "      <td>1.0</td>\n",
       "      <td>0.0</td>\n",
       "    </tr>\n",
       "    <tr>\n",
       "      <th>2</th>\n",
       "      <td>0.238210</td>\n",
       "      <td>0.793103</td>\n",
       "      <td>0.018395</td>\n",
       "      <td>0.182759</td>\n",
       "      <td>0.184834</td>\n",
       "      <td>0.111111</td>\n",
       "      <td>0.206897</td>\n",
       "      <td>0.179031</td>\n",
       "      <td>0.224184</td>\n",
       "      <td>1.0</td>\n",
       "      <td>0.0</td>\n",
       "      <td>1.0</td>\n",
       "      <td>0.0</td>\n",
       "      <td>0.0</td>\n",
       "      <td>0.0</td>\n",
       "      <td>1.0</td>\n",
       "      <td>1.0</td>\n",
       "      <td>0.0</td>\n",
       "    </tr>\n",
       "    <tr>\n",
       "      <th>3</th>\n",
       "      <td>0.044740</td>\n",
       "      <td>0.448276</td>\n",
       "      <td>0.023659</td>\n",
       "      <td>0.077586</td>\n",
       "      <td>0.198904</td>\n",
       "      <td>0.136876</td>\n",
       "      <td>0.551724</td>\n",
       "      <td>0.233432</td>\n",
       "      <td>0.087062</td>\n",
       "      <td>1.0</td>\n",
       "      <td>0.0</td>\n",
       "      <td>0.0</td>\n",
       "      <td>0.0</td>\n",
       "      <td>0.0</td>\n",
       "      <td>1.0</td>\n",
       "      <td>1.0</td>\n",
       "      <td>1.0</td>\n",
       "      <td>0.0</td>\n",
       "    </tr>\n",
       "    <tr>\n",
       "      <th>4</th>\n",
       "      <td>0.209190</td>\n",
       "      <td>0.793103</td>\n",
       "      <td>0.010763</td>\n",
       "      <td>0.107500</td>\n",
       "      <td>0.177429</td>\n",
       "      <td>0.111111</td>\n",
       "      <td>0.206897</td>\n",
       "      <td>0.218595</td>\n",
       "      <td>0.229504</td>\n",
       "      <td>0.0</td>\n",
       "      <td>0.0</td>\n",
       "      <td>0.0</td>\n",
       "      <td>0.0</td>\n",
       "      <td>0.0</td>\n",
       "      <td>1.0</td>\n",
       "      <td>1.0</td>\n",
       "      <td>1.0</td>\n",
       "      <td>0.0</td>\n",
       "    </tr>\n",
       "  </tbody>\n",
       "</table>\n",
       "</div>"
      ],
      "text/plain": [
       "   selling_price      year  km_driven   mileage    engine  max_power  \\\n",
       "0       0.122128  0.517241   0.028922  0.094828  0.234893   0.160515   \n",
       "1       0.211608  0.689655   0.018395  0.154310  0.206754   0.134879   \n",
       "2       0.238210  0.793103   0.018395  0.182759  0.184834   0.111111   \n",
       "3       0.044740  0.448276   0.023659  0.077586  0.198904   0.136876   \n",
       "4       0.209190  0.793103   0.010763  0.107500  0.177429   0.111111   \n",
       "\n",
       "        age      make     model  Individual  Trustmark Dealer  Diesel  \\\n",
       "0  0.482759  0.179031  0.093108         1.0               0.0     0.0   \n",
       "1  0.310345  0.203759  0.200726         0.0               0.0     1.0   \n",
       "2  0.206897  0.179031  0.224184         1.0               0.0     1.0   \n",
       "3  0.551724  0.233432  0.087062         1.0               0.0     0.0   \n",
       "4  0.206897  0.218595  0.229504         0.0               0.0     0.0   \n",
       "\n",
       "   Electric  LPG  Petrol  Manual    5   >5  \n",
       "0       0.0  0.0     1.0     1.0  1.0  0.0  \n",
       "1       0.0  0.0     0.0     1.0  1.0  0.0  \n",
       "2       0.0  0.0     0.0     1.0  1.0  0.0  \n",
       "3       0.0  0.0     1.0     1.0  1.0  0.0  \n",
       "4       0.0  0.0     1.0     1.0  1.0  0.0  "
      ]
     },
     "execution_count": 47,
     "metadata": {},
     "output_type": "execute_result"
    }
   ],
   "source": [
    "df = pd.read_csv(\"train-cars24-car-price.csv\")\n",
    "df = preprocess(df)\n",
    "df = feature_engineering(df)\n",
    "df.head()"
   ]
  },
  {
   "cell_type": "code",
   "execution_count": 48,
   "id": "f8169964",
   "metadata": {
    "colab": {
     "base_uri": "https://localhost:8080/"
    },
    "id": "f8169964",
    "outputId": "29d3ab2b-7321-4188-cce9-7c5494b33b56"
   },
   "outputs": [
    {
     "data": {
      "text/plain": [
       "(13868, 18)"
      ]
     },
     "execution_count": 48,
     "metadata": {},
     "output_type": "execute_result"
    }
   ],
   "source": [
    "df.shape"
   ]
  },
  {
   "cell_type": "markdown",
   "id": "b1c28e24",
   "metadata": {
    "id": "b1c28e24"
   },
   "source": [
    "#### Correlations with all numeric features"
   ]
  },
  {
   "cell_type": "markdown",
   "id": "5pf7MKJQV4VT",
   "metadata": {
    "id": "5pf7MKJQV4VT"
   },
   "source": [
    "And before we wrap up, lets just see correlations of all variables since now we have all usable information in numerical form"
   ]
  },
  {
   "cell_type": "code",
   "execution_count": 49,
   "id": "8d2b5ede",
   "metadata": {
    "colab": {
     "base_uri": "https://localhost:8080/",
     "height": 961
    },
    "id": "8d2b5ede",
    "outputId": "08101aff-9847-4e5f-fc33-d9a977cf950c"
   },
   "outputs": [
    {
     "data": {
      "text/plain": [
       "<AxesSubplot:>"
      ]
     },
     "execution_count": 49,
     "metadata": {},
     "output_type": "execute_result"
    },
    {
     "data": {
      "image/png": "[encoded data removed]",
      "text/plain": [
       "<Figure size 1080x1080 with 2 Axes>"
      ]
     },
     "metadata": {
      "needs_background": "light"
     },
     "output_type": "display_data"
    }
   ],
   "source": [
    "plt.figure(figsize=(15, 15))\n",
    "sns.heatmap(df.corr(), cmap=\"YlGnBu\", annot=True)"
   ]
  },
  {
   "cell_type": "markdown",
   "id": "ee017f44",
   "metadata": {
    "id": "ee017f44"
   },
   "source": [
    "- `max_power`, `engine` and `transmission_type` are hightest correlated with `selling_price` in same order.\n",
    "- New encoded features are weak predictor, but they together would might make strong predictors."
   ]
  },
  {
   "cell_type": "markdown",
   "id": "e52c7eb5",
   "metadata": {
    "id": "e52c7eb5"
   },
   "source": [
    "---"
   ]
  }
 ],
 "metadata": {
  "colab": {
   "collapsed_sections": [],
   "name": "Notes-DataPrep2-Cars-24.ipynb",
   "provenance": []
  },
  "kernelspec": {
   "display_name": "Python 3 (ipykernel)",
   "language": "python",
   "name": "python3"
  },
  "language_info": {
   "codemirror_mode": {
    "name": "ipython",
    "version": 3
   },
   "file_extension": ".py",
   "mimetype": "text/x-python",
   "name": "python",
   "nbconvert_exporter": "python",
   "pygments_lexer": "ipython3",
   "version": "3.9.7"
  }
 },
 "nbformat": 4,
 "nbformat_minor": 5
}
