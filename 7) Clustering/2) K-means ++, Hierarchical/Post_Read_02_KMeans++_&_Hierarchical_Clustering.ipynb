{
 "cells": [
  {
   "cell_type": "markdown",
   "metadata": {
    "id": "Ck0z7oBK72WZ"
   },
   "source": [
    "## **Silhouette Score**\n",
    "\n",
    "- The silhouette score of a point **measures how close that point lies to its nearest neighbor points, across all clusters**. \n",
    "\n",
    "- It provides information about clustering quality which can be used to determine whether further refinement by clustering should be performed on the current clustering.\n",
    "\n",
    "- An instance’s silhouette coefficient is equal to $\\Large\\frac{(b – a)}{max(a, b)}$, where; \n",
    "\n",
    " - $a$ is the the mean intra-cluster distance (i.e., mean distance to the other instances in the same cluster)\n",
    "\n",
    " - $b$ is the nearest mean inter-cluster distance (i.e., the mean distance to the instances of the next closest cluster). It is defined such that the instance’s own cluster is excluding. \n",
    "\n",
    "<img src='https://d2beiqkhq929f0.cloudfront.net/public_assets/assets/000/008/308/original/Screenshot_2022-08-02_at_6.47.39_PM.png?1659445799' height = '500' width = '800'>\n",
    "\n",
    ">**Instructor Note**:\n",
    "Ask the learners about the range of Silhouette score.\n",
    "\n",
    "**Q. What's the range of silhouette score?**\n",
    "\n",
    "- The range of Silhouette score is [-1, 1].\n",
    "\n",
    "- Score is $1$ when $b > a$ and $a = 0$\n",
    "\n",
    "  - implying that the points in the same cluster are very close. \n",
    "  - In this case the points within the same cluster are very close whereas the points in the other clusters are at some distance.\n",
    "\n",
    "<img src='https://d2beiqkhq929f0.cloudfront.net/public_assets/assets/000/008/311/original/Screenshot_2022-08-02_at_7.05.22_PM.png?1659446843' height = '500' width = '800'>\n",
    "\n",
    "- Score is $-1$ when $a > b$ and $b = 0$\n",
    "\n",
    "  - In this case the points from the same cluster of the current instance are at some distance but the points from the other clusters are overlapping with the current instance.\n",
    "\n",
    "<img src='https://d2beiqkhq929f0.cloudfront.net/public_assets/assets/000/008/310/original/Screenshot_2022-08-02_at_7.02.19_PM.png?1659446661' height = '500' width = '800'>\n",
    "\n",
    "- Ideally we want our Silhouette score to be closer to $1$, because we do want that our inter-cluster distances should be greater than intra-cluster distances.\n",
    "\n",
    "- This is a more precise alternative to **Inertia (within cluster sum of squares (also called SSE))** and Elbow curve!\n",
    "\n",
    "- A more precise approach (but also more computationally expensive) is to use the silhouette score, which is the mean silhouette coefficient over all the instances. \n",
    "\n",
    "#### **Interpreting Silhouette scores**\n",
    "\n",
    "- A coefficient close to $+1$ means that the instance is well inside its own cluster and far from other clusters, \n",
    "\n",
    "- While a coefficient close to $0$ means that it is close to a cluster boundary, \n",
    "\n",
    "- A coefficient close to $–1$ means that the instance may have been assigned to the wrong cluster.\n",
    "\n"
   ]
  }
 ],
 "metadata": {
  "colab": {
   "collapsed_sections": [],
   "provenance": [],
   "toc_visible": true
  },
  "kernelspec": {
   "display_name": "Python 3 (ipykernel)",
   "language": "python",
   "name": "python3"
  },
  "language_info": {
   "codemirror_mode": {
    "name": "ipython",
    "version": 3
   },
   "file_extension": ".py",
   "mimetype": "text/x-python",
   "name": "python",
   "nbconvert_exporter": "python",
   "pygments_lexer": "ipython3",
   "version": "3.9.7"
  }
 },
 "nbformat": 4,
 "nbformat_minor": 1
}
